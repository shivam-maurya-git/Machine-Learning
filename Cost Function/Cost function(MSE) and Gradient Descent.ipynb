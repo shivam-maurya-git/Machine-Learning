{
 "cells": [
  {
   "cell_type": "code",
   "execution_count": null,
   "id": "76f34930",
   "metadata": {},
   "outputs": [],
   "source": [
    "import numpy as np\n",
    "import pandas as pd\n",
    "import math"
   ]
  },
  {
   "cell_type": "code",
   "execution_count": null,
   "id": "d9fd6bdd",
   "metadata": {},
   "outputs": [],
   "source": [
    "def gradient_descent(x,y):\n",
    "    m_curr = b_curr=0 #intializing parameters of model\n",
    "    iterations = 10000\n",
    "    n = len(x)\n",
    "    learning_rate = 0.01 #We usually define small learning rate\n",
    "    \n",
    "    for i in range(iterations):\n",
    "        y_predicted = m_curr * x + b_curr\n",
    "        cost = (1/n)*sum([val**2 for val in (y-y_predicted)])\n",
    "        md = -(2/n)*sum(x*(y-y_predicted))\n",
    "        bd =  -(2/n)*sum(y-y_predicted)\n",
    "        m_curr = m_curr-learning_rate*md\n",
    "        b_curr = b_curr-learning_rate*bd\n",
    "        print(m_curr,b_curr,cost,i)\n",
    "x = np.array([1,2,3,4,5])\n",
    "y =np.array([5,7,9,11,13])"
   ]
  },
  {
   "cell_type": "code",
   "execution_count": null,
   "id": "c71228fe",
   "metadata": {},
   "outputs": [],
   "source": [
    "gradient_descent(x,y)"
   ]
  },
  {
   "cell_type": "code",
   "execution_count": null,
   "id": "9af2e1ec",
   "metadata": {},
   "outputs": [],
   "source": [
    "df = pd.read_csv('test_scores.csv')"
   ]
  },
  {
   "cell_type": "code",
   "execution_count": null,
   "id": "7fe4c98c",
   "metadata": {},
   "outputs": [],
   "source": [
    "df.head()"
   ]
  },
  {
   "cell_type": "code",
   "execution_count": null,
   "id": "9b981b33",
   "metadata": {},
   "outputs": [],
   "source": [
    "df.isna().sum()"
   ]
  },
  {
   "cell_type": "code",
   "execution_count": null,
   "id": "bd8c4c92",
   "metadata": {},
   "outputs": [],
   "source": [
    "def gradient_descent(x,y):\n",
    "    m_curr = b_curr=0 #intializing parameters of model\n",
    "    iterations = 1000000\n",
    "    n = len(x)\n",
    "    learning_rate = 0.00002 #We usually define small learning rate\n",
    "    \n",
    "    for i in range(iterations):\n",
    "        y_predicted = m_curr * x + b_curr\n",
    "        cost = np.mean([(y-y_predicted)**2])\n",
    "#         closeness = math.isclose(previous_cost,cost,rel_tol = 1e-20)\n",
    "        md = -(2/n)*np.sum(x*(y-y_predicted))\n",
    "        bd =  -(2/n)*np.sum(y-y_predicted)\n",
    "        m_curr = m_curr-learning_rate*md\n",
    "        b_curr = b_curr-learning_rate*bd\n",
    "        print(m_curr,b_curr,cost,i)\n",
    "x = np.array(df['math'])\n",
    "y = np.array(df['cs'])"
   ]
  },
  {
   "cell_type": "code",
   "execution_count": null,
   "id": "f5a49714",
   "metadata": {},
   "outputs": [],
   "source": [
    "gradient_descent(x,y)"
   ]
  }
 ],
 "metadata": {
  "kernelspec": {
   "display_name": "Python 3 (ipykernel)",
   "language": "python",
   "name": "python3"
  },
  "language_info": {
   "codemirror_mode": {
    "name": "ipython",
    "version": 3
   },
   "file_extension": ".py",
   "mimetype": "text/x-python",
   "name": "python",
   "nbconvert_exporter": "python",
   "pygments_lexer": "ipython3",
   "version": "3.11.5"
  }
 },
 "nbformat": 4,
 "nbformat_minor": 5
}
