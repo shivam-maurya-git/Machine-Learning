{
 "cells": [
  {
   "cell_type": "code",
   "execution_count": 1,
   "id": "68e58191",
   "metadata": {},
   "outputs": [],
   "source": [
    "import pandas as pd\n",
    "import numpy as np"
   ]
  },
  {
   "cell_type": "code",
   "execution_count": 2,
   "id": "d5826ba6",
   "metadata": {},
   "outputs": [],
   "source": [
    "from sklearn.model_selection import train_test_split\n",
    "from sklearn.linear_model import LinearRegression"
   ]
  },
  {
   "cell_type": "code",
   "execution_count": 66,
   "id": "15e181be",
   "metadata": {},
   "outputs": [],
   "source": [
    "from sklearn.linear_model import Lasso\n",
    "from sklearn.linear_model import Ridge"
   ]
  },
  {
   "cell_type": "code",
   "execution_count": 3,
   "id": "dd00a74e",
   "metadata": {},
   "outputs": [],
   "source": [
    "df = pd.read_csv('Melbourne_housing_FULL.csv')"
   ]
  },
  {
   "cell_type": "code",
   "execution_count": 4,
   "id": "785b9c73",
   "metadata": {},
   "outputs": [
    {
     "data": {
      "text/html": [
       "<div>\n",
       "<style scoped>\n",
       "    .dataframe tbody tr th:only-of-type {\n",
       "        vertical-align: middle;\n",
       "    }\n",
       "\n",
       "    .dataframe tbody tr th {\n",
       "        vertical-align: top;\n",
       "    }\n",
       "\n",
       "    .dataframe thead th {\n",
       "        text-align: right;\n",
       "    }\n",
       "</style>\n",
       "<table border=\"1\" class=\"dataframe\">\n",
       "  <thead>\n",
       "    <tr style=\"text-align: right;\">\n",
       "      <th></th>\n",
       "      <th>Suburb</th>\n",
       "      <th>Address</th>\n",
       "      <th>Rooms</th>\n",
       "      <th>Type</th>\n",
       "      <th>Price</th>\n",
       "      <th>Method</th>\n",
       "      <th>SellerG</th>\n",
       "      <th>Date</th>\n",
       "      <th>Distance</th>\n",
       "      <th>Postcode</th>\n",
       "      <th>...</th>\n",
       "      <th>Bathroom</th>\n",
       "      <th>Car</th>\n",
       "      <th>Landsize</th>\n",
       "      <th>BuildingArea</th>\n",
       "      <th>YearBuilt</th>\n",
       "      <th>CouncilArea</th>\n",
       "      <th>Lattitude</th>\n",
       "      <th>Longtitude</th>\n",
       "      <th>Regionname</th>\n",
       "      <th>Propertycount</th>\n",
       "    </tr>\n",
       "  </thead>\n",
       "  <tbody>\n",
       "    <tr>\n",
       "      <th>0</th>\n",
       "      <td>Abbotsford</td>\n",
       "      <td>68 Studley St</td>\n",
       "      <td>2</td>\n",
       "      <td>h</td>\n",
       "      <td>NaN</td>\n",
       "      <td>SS</td>\n",
       "      <td>Jellis</td>\n",
       "      <td>3/09/2016</td>\n",
       "      <td>2.5</td>\n",
       "      <td>3067.0</td>\n",
       "      <td>...</td>\n",
       "      <td>1.0</td>\n",
       "      <td>1.0</td>\n",
       "      <td>126.0</td>\n",
       "      <td>NaN</td>\n",
       "      <td>NaN</td>\n",
       "      <td>Yarra City Council</td>\n",
       "      <td>-37.8014</td>\n",
       "      <td>144.9958</td>\n",
       "      <td>Northern Metropolitan</td>\n",
       "      <td>4019.0</td>\n",
       "    </tr>\n",
       "    <tr>\n",
       "      <th>1</th>\n",
       "      <td>Abbotsford</td>\n",
       "      <td>85 Turner St</td>\n",
       "      <td>2</td>\n",
       "      <td>h</td>\n",
       "      <td>1480000.0</td>\n",
       "      <td>S</td>\n",
       "      <td>Biggin</td>\n",
       "      <td>3/12/2016</td>\n",
       "      <td>2.5</td>\n",
       "      <td>3067.0</td>\n",
       "      <td>...</td>\n",
       "      <td>1.0</td>\n",
       "      <td>1.0</td>\n",
       "      <td>202.0</td>\n",
       "      <td>NaN</td>\n",
       "      <td>NaN</td>\n",
       "      <td>Yarra City Council</td>\n",
       "      <td>-37.7996</td>\n",
       "      <td>144.9984</td>\n",
       "      <td>Northern Metropolitan</td>\n",
       "      <td>4019.0</td>\n",
       "    </tr>\n",
       "    <tr>\n",
       "      <th>2</th>\n",
       "      <td>Abbotsford</td>\n",
       "      <td>25 Bloomburg St</td>\n",
       "      <td>2</td>\n",
       "      <td>h</td>\n",
       "      <td>1035000.0</td>\n",
       "      <td>S</td>\n",
       "      <td>Biggin</td>\n",
       "      <td>4/02/2016</td>\n",
       "      <td>2.5</td>\n",
       "      <td>3067.0</td>\n",
       "      <td>...</td>\n",
       "      <td>1.0</td>\n",
       "      <td>0.0</td>\n",
       "      <td>156.0</td>\n",
       "      <td>79.0</td>\n",
       "      <td>1900.0</td>\n",
       "      <td>Yarra City Council</td>\n",
       "      <td>-37.8079</td>\n",
       "      <td>144.9934</td>\n",
       "      <td>Northern Metropolitan</td>\n",
       "      <td>4019.0</td>\n",
       "    </tr>\n",
       "    <tr>\n",
       "      <th>3</th>\n",
       "      <td>Abbotsford</td>\n",
       "      <td>18/659 Victoria St</td>\n",
       "      <td>3</td>\n",
       "      <td>u</td>\n",
       "      <td>NaN</td>\n",
       "      <td>VB</td>\n",
       "      <td>Rounds</td>\n",
       "      <td>4/02/2016</td>\n",
       "      <td>2.5</td>\n",
       "      <td>3067.0</td>\n",
       "      <td>...</td>\n",
       "      <td>2.0</td>\n",
       "      <td>1.0</td>\n",
       "      <td>0.0</td>\n",
       "      <td>NaN</td>\n",
       "      <td>NaN</td>\n",
       "      <td>Yarra City Council</td>\n",
       "      <td>-37.8114</td>\n",
       "      <td>145.0116</td>\n",
       "      <td>Northern Metropolitan</td>\n",
       "      <td>4019.0</td>\n",
       "    </tr>\n",
       "    <tr>\n",
       "      <th>4</th>\n",
       "      <td>Abbotsford</td>\n",
       "      <td>5 Charles St</td>\n",
       "      <td>3</td>\n",
       "      <td>h</td>\n",
       "      <td>1465000.0</td>\n",
       "      <td>SP</td>\n",
       "      <td>Biggin</td>\n",
       "      <td>4/03/2017</td>\n",
       "      <td>2.5</td>\n",
       "      <td>3067.0</td>\n",
       "      <td>...</td>\n",
       "      <td>2.0</td>\n",
       "      <td>0.0</td>\n",
       "      <td>134.0</td>\n",
       "      <td>150.0</td>\n",
       "      <td>1900.0</td>\n",
       "      <td>Yarra City Council</td>\n",
       "      <td>-37.8093</td>\n",
       "      <td>144.9944</td>\n",
       "      <td>Northern Metropolitan</td>\n",
       "      <td>4019.0</td>\n",
       "    </tr>\n",
       "  </tbody>\n",
       "</table>\n",
       "<p>5 rows × 21 columns</p>\n",
       "</div>"
      ],
      "text/plain": [
       "       Suburb             Address  Rooms Type      Price Method SellerG  \\\n",
       "0  Abbotsford       68 Studley St      2    h        NaN     SS  Jellis   \n",
       "1  Abbotsford        85 Turner St      2    h  1480000.0      S  Biggin   \n",
       "2  Abbotsford     25 Bloomburg St      2    h  1035000.0      S  Biggin   \n",
       "3  Abbotsford  18/659 Victoria St      3    u        NaN     VB  Rounds   \n",
       "4  Abbotsford        5 Charles St      3    h  1465000.0     SP  Biggin   \n",
       "\n",
       "        Date  Distance  Postcode  ...  Bathroom  Car  Landsize  BuildingArea  \\\n",
       "0  3/09/2016       2.5    3067.0  ...       1.0  1.0     126.0           NaN   \n",
       "1  3/12/2016       2.5    3067.0  ...       1.0  1.0     202.0           NaN   \n",
       "2  4/02/2016       2.5    3067.0  ...       1.0  0.0     156.0          79.0   \n",
       "3  4/02/2016       2.5    3067.0  ...       2.0  1.0       0.0           NaN   \n",
       "4  4/03/2017       2.5    3067.0  ...       2.0  0.0     134.0         150.0   \n",
       "\n",
       "   YearBuilt         CouncilArea Lattitude  Longtitude             Regionname  \\\n",
       "0        NaN  Yarra City Council  -37.8014    144.9958  Northern Metropolitan   \n",
       "1        NaN  Yarra City Council  -37.7996    144.9984  Northern Metropolitan   \n",
       "2     1900.0  Yarra City Council  -37.8079    144.9934  Northern Metropolitan   \n",
       "3        NaN  Yarra City Council  -37.8114    145.0116  Northern Metropolitan   \n",
       "4     1900.0  Yarra City Council  -37.8093    144.9944  Northern Metropolitan   \n",
       "\n",
       "  Propertycount  \n",
       "0        4019.0  \n",
       "1        4019.0  \n",
       "2        4019.0  \n",
       "3        4019.0  \n",
       "4        4019.0  \n",
       "\n",
       "[5 rows x 21 columns]"
      ]
     },
     "execution_count": 4,
     "metadata": {},
     "output_type": "execute_result"
    }
   ],
   "source": [
    "df.head()"
   ]
  },
  {
   "cell_type": "code",
   "execution_count": 5,
   "id": "16d018f8",
   "metadata": {},
   "outputs": [
    {
     "data": {
      "text/plain": [
       "(34857, 21)"
      ]
     },
     "execution_count": 5,
     "metadata": {},
     "output_type": "execute_result"
    }
   ],
   "source": [
    "df.shape"
   ]
  },
  {
   "cell_type": "code",
   "execution_count": 6,
   "id": "7cc4f8c4",
   "metadata": {},
   "outputs": [],
   "source": [
    "df.drop(columns=['Address','Date','Postcode','YearBuilt','Lattitude','Longtitude'],inplace=True)"
   ]
  },
  {
   "cell_type": "code",
   "execution_count": 7,
   "id": "3a8192d7",
   "metadata": {},
   "outputs": [
    {
     "data": {
      "text/plain": [
       "Index(['Suburb', 'Rooms', 'Type', 'Price', 'Method', 'SellerG', 'Distance',\n",
       "       'Bedroom2', 'Bathroom', 'Car', 'Landsize', 'BuildingArea',\n",
       "       'CouncilArea', 'Regionname', 'Propertycount'],\n",
       "      dtype='object')"
      ]
     },
     "execution_count": 7,
     "metadata": {},
     "output_type": "execute_result"
    }
   ],
   "source": [
    "df.columns"
   ]
  },
  {
   "cell_type": "code",
   "execution_count": 8,
   "id": "50fc331d",
   "metadata": {},
   "outputs": [
    {
     "data": {
      "text/plain": [
       "Suburb               0\n",
       "Rooms                0\n",
       "Type                 0\n",
       "Price             7610\n",
       "Method               0\n",
       "SellerG              0\n",
       "Distance             1\n",
       "Bedroom2          8217\n",
       "Bathroom          8226\n",
       "Car               8728\n",
       "Landsize         11810\n",
       "BuildingArea     21115\n",
       "CouncilArea          3\n",
       "Regionname           3\n",
       "Propertycount        3\n",
       "dtype: int64"
      ]
     },
     "execution_count": 8,
     "metadata": {},
     "output_type": "execute_result"
    }
   ],
   "source": [
    "df.isna().sum()"
   ]
  },
  {
   "cell_type": "code",
   "execution_count": 10,
   "id": "352c9c69",
   "metadata": {},
   "outputs": [],
   "source": [
    "# Given values are NA because of their count 0.\n",
    "replace_with_zero = ['Bedroom2','Propertycount','Distance','Bathroom','Car']"
   ]
  },
  {
   "cell_type": "code",
   "execution_count": 11,
   "id": "8e76e192",
   "metadata": {},
   "outputs": [],
   "source": [
    "df[replace_with_zero] = df[replace_with_zero].fillna(0)"
   ]
  },
  {
   "cell_type": "code",
   "execution_count": 12,
   "id": "a519e34f",
   "metadata": {},
   "outputs": [
    {
     "data": {
      "text/plain": [
       "Suburb               0\n",
       "Rooms                0\n",
       "Type                 0\n",
       "Price             7610\n",
       "Method               0\n",
       "SellerG              0\n",
       "Distance             0\n",
       "Bedroom2             0\n",
       "Bathroom             0\n",
       "Car                  0\n",
       "Landsize         11810\n",
       "BuildingArea     21115\n",
       "CouncilArea          3\n",
       "Regionname           3\n",
       "Propertycount        0\n",
       "dtype: int64"
      ]
     },
     "execution_count": 12,
     "metadata": {},
     "output_type": "execute_result"
    }
   ],
   "source": [
    "df.isna().sum()"
   ]
  },
  {
   "cell_type": "code",
   "execution_count": 13,
   "id": "6f30ff25",
   "metadata": {},
   "outputs": [],
   "source": [
    "df['BuildingArea'] = df['BuildingArea'].fillna(df['BuildingArea'].mean())\n",
    "df['Landsize'] = df['Landsize'].fillna(df['Landsize'].mean())"
   ]
  },
  {
   "cell_type": "code",
   "execution_count": 14,
   "id": "5885a19d",
   "metadata": {},
   "outputs": [
    {
     "data": {
      "text/plain": [
       "Suburb              0\n",
       "Rooms               0\n",
       "Type                0\n",
       "Price            7610\n",
       "Method              0\n",
       "SellerG             0\n",
       "Distance            0\n",
       "Bedroom2            0\n",
       "Bathroom            0\n",
       "Car                 0\n",
       "Landsize            0\n",
       "BuildingArea        0\n",
       "CouncilArea         3\n",
       "Regionname          3\n",
       "Propertycount       0\n",
       "dtype: int64"
      ]
     },
     "execution_count": 14,
     "metadata": {},
     "output_type": "execute_result"
    }
   ],
   "source": [
    "df.isna().sum()"
   ]
  },
  {
   "cell_type": "code",
   "execution_count": 18,
   "id": "e0eb05c8",
   "metadata": {},
   "outputs": [],
   "source": [
    "df.dropna(inplace=True)"
   ]
  },
  {
   "cell_type": "code",
   "execution_count": 19,
   "id": "a06d83c8",
   "metadata": {},
   "outputs": [
    {
     "data": {
      "text/plain": [
       "Suburb           0\n",
       "Rooms            0\n",
       "Type             0\n",
       "Price            0\n",
       "Method           0\n",
       "SellerG          0\n",
       "Distance         0\n",
       "Bedroom2         0\n",
       "Bathroom         0\n",
       "Car              0\n",
       "Landsize         0\n",
       "BuildingArea     0\n",
       "CouncilArea      0\n",
       "Regionname       0\n",
       "Propertycount    0\n",
       "dtype: int64"
      ]
     },
     "execution_count": 19,
     "metadata": {},
     "output_type": "execute_result"
    }
   ],
   "source": [
    "df.isna().sum()"
   ]
  },
  {
   "cell_type": "code",
   "execution_count": 20,
   "id": "89d4398d",
   "metadata": {},
   "outputs": [],
   "source": [
    "df = pd.get_dummies(df,drop_first=True,dtype=int)"
   ]
  },
  {
   "cell_type": "code",
   "execution_count": 21,
   "id": "a73ef69e",
   "metadata": {},
   "outputs": [
    {
     "data": {
      "text/plain": [
       "Index(['Rooms', 'Price', 'Distance', 'Bedroom2', 'Bathroom', 'Car', 'Landsize',\n",
       "       'BuildingArea', 'Propertycount', 'Suburb_Aberfeldie',\n",
       "       ...\n",
       "       'CouncilArea_Wyndham City Council', 'CouncilArea_Yarra City Council',\n",
       "       'CouncilArea_Yarra Ranges Shire Council', 'Regionname_Eastern Victoria',\n",
       "       'Regionname_Northern Metropolitan', 'Regionname_Northern Victoria',\n",
       "       'Regionname_South-Eastern Metropolitan',\n",
       "       'Regionname_Southern Metropolitan', 'Regionname_Western Metropolitan',\n",
       "       'Regionname_Western Victoria'],\n",
       "      dtype='object', length=745)"
      ]
     },
     "execution_count": 21,
     "metadata": {},
     "output_type": "execute_result"
    }
   ],
   "source": [
    "df.columns"
   ]
  },
  {
   "cell_type": "code",
   "execution_count": 22,
   "id": "f92e95ff",
   "metadata": {},
   "outputs": [],
   "source": [
    "x = df.drop(columns='Price')"
   ]
  },
  {
   "cell_type": "code",
   "execution_count": 23,
   "id": "9adb1039",
   "metadata": {},
   "outputs": [],
   "source": [
    "y = df['Price']"
   ]
  },
  {
   "cell_type": "code",
   "execution_count": 46,
   "id": "11e4adfb",
   "metadata": {},
   "outputs": [],
   "source": [
    "# The random_state parameter is an optional parameter that allows you to set a seed for the random number\n",
    "# generator used during the split. Setting a seed ensures reproducibility, meaning that if you use the same seed\n",
    "# x_train,x_test,y_train,y_test = train_test_split(x,y,test_size=0.2)"
   ]
  },
  {
   "cell_type": "code",
   "execution_count": 47,
   "id": "5b478275",
   "metadata": {},
   "outputs": [],
   "source": [
    "model = LinearRegression()"
   ]
  },
  {
   "cell_type": "code",
   "execution_count": 48,
   "id": "53a0e962",
   "metadata": {},
   "outputs": [
    {
     "data": {
      "text/html": [
       "<style>#sk-container-id-4 {color: black;}#sk-container-id-4 pre{padding: 0;}#sk-container-id-4 div.sk-toggleable {background-color: white;}#sk-container-id-4 label.sk-toggleable__label {cursor: pointer;display: block;width: 100%;margin-bottom: 0;padding: 0.3em;box-sizing: border-box;text-align: center;}#sk-container-id-4 label.sk-toggleable__label-arrow:before {content: \"▸\";float: left;margin-right: 0.25em;color: #696969;}#sk-container-id-4 label.sk-toggleable__label-arrow:hover:before {color: black;}#sk-container-id-4 div.sk-estimator:hover label.sk-toggleable__label-arrow:before {color: black;}#sk-container-id-4 div.sk-toggleable__content {max-height: 0;max-width: 0;overflow: hidden;text-align: left;background-color: #f0f8ff;}#sk-container-id-4 div.sk-toggleable__content pre {margin: 0.2em;color: black;border-radius: 0.25em;background-color: #f0f8ff;}#sk-container-id-4 input.sk-toggleable__control:checked~div.sk-toggleable__content {max-height: 200px;max-width: 100%;overflow: auto;}#sk-container-id-4 input.sk-toggleable__control:checked~label.sk-toggleable__label-arrow:before {content: \"▾\";}#sk-container-id-4 div.sk-estimator input.sk-toggleable__control:checked~label.sk-toggleable__label {background-color: #d4ebff;}#sk-container-id-4 div.sk-label input.sk-toggleable__control:checked~label.sk-toggleable__label {background-color: #d4ebff;}#sk-container-id-4 input.sk-hidden--visually {border: 0;clip: rect(1px 1px 1px 1px);clip: rect(1px, 1px, 1px, 1px);height: 1px;margin: -1px;overflow: hidden;padding: 0;position: absolute;width: 1px;}#sk-container-id-4 div.sk-estimator {font-family: monospace;background-color: #f0f8ff;border: 1px dotted black;border-radius: 0.25em;box-sizing: border-box;margin-bottom: 0.5em;}#sk-container-id-4 div.sk-estimator:hover {background-color: #d4ebff;}#sk-container-id-4 div.sk-parallel-item::after {content: \"\";width: 100%;border-bottom: 1px solid gray;flex-grow: 1;}#sk-container-id-4 div.sk-label:hover label.sk-toggleable__label {background-color: #d4ebff;}#sk-container-id-4 div.sk-serial::before {content: \"\";position: absolute;border-left: 1px solid gray;box-sizing: border-box;top: 0;bottom: 0;left: 50%;z-index: 0;}#sk-container-id-4 div.sk-serial {display: flex;flex-direction: column;align-items: center;background-color: white;padding-right: 0.2em;padding-left: 0.2em;position: relative;}#sk-container-id-4 div.sk-item {position: relative;z-index: 1;}#sk-container-id-4 div.sk-parallel {display: flex;align-items: stretch;justify-content: center;background-color: white;position: relative;}#sk-container-id-4 div.sk-item::before, #sk-container-id-4 div.sk-parallel-item::before {content: \"\";position: absolute;border-left: 1px solid gray;box-sizing: border-box;top: 0;bottom: 0;left: 50%;z-index: -1;}#sk-container-id-4 div.sk-parallel-item {display: flex;flex-direction: column;z-index: 1;position: relative;background-color: white;}#sk-container-id-4 div.sk-parallel-item:first-child::after {align-self: flex-end;width: 50%;}#sk-container-id-4 div.sk-parallel-item:last-child::after {align-self: flex-start;width: 50%;}#sk-container-id-4 div.sk-parallel-item:only-child::after {width: 0;}#sk-container-id-4 div.sk-dashed-wrapped {border: 1px dashed gray;margin: 0 0.4em 0.5em 0.4em;box-sizing: border-box;padding-bottom: 0.4em;background-color: white;}#sk-container-id-4 div.sk-label label {font-family: monospace;font-weight: bold;display: inline-block;line-height: 1.2em;}#sk-container-id-4 div.sk-label-container {text-align: center;}#sk-container-id-4 div.sk-container {/* jupyter's `normalize.less` sets `[hidden] { display: none; }` but bootstrap.min.css set `[hidden] { display: none !important; }` so we also need the `!important` here to be able to override the default hidden behavior on the sphinx rendered scikit-learn.org. See: https://github.com/scikit-learn/scikit-learn/issues/21755 */display: inline-block !important;position: relative;}#sk-container-id-4 div.sk-text-repr-fallback {display: none;}</style><div id=\"sk-container-id-4\" class=\"sk-top-container\"><div class=\"sk-text-repr-fallback\"><pre>LinearRegression()</pre><b>In a Jupyter environment, please rerun this cell to show the HTML representation or trust the notebook. <br />On GitHub, the HTML representation is unable to render, please try loading this page with nbviewer.org.</b></div><div class=\"sk-container\" hidden><div class=\"sk-item\"><div class=\"sk-estimator sk-toggleable\"><input class=\"sk-toggleable__control sk-hidden--visually\" id=\"sk-estimator-id-4\" type=\"checkbox\" checked><label for=\"sk-estimator-id-4\" class=\"sk-toggleable__label sk-toggleable__label-arrow\">LinearRegression</label><div class=\"sk-toggleable__content\"><pre>LinearRegression()</pre></div></div></div></div></div>"
      ],
      "text/plain": [
       "LinearRegression()"
      ]
     },
     "execution_count": 48,
     "metadata": {},
     "output_type": "execute_result"
    }
   ],
   "source": [
    "model.fit(x_train,y_train)"
   ]
  },
  {
   "cell_type": "code",
   "execution_count": 49,
   "id": "920ead8e",
   "metadata": {},
   "outputs": [
    {
     "data": {
      "text/plain": [
       "0.6795386581866268"
      ]
     },
     "execution_count": 49,
     "metadata": {},
     "output_type": "execute_result"
    }
   ],
   "source": [
    "model.score(x_train,y_train)"
   ]
  },
  {
   "cell_type": "code",
   "execution_count": 50,
   "id": "8eb5aed5",
   "metadata": {},
   "outputs": [
    {
     "data": {
      "text/plain": [
       "0.6740570317894199"
      ]
     },
     "execution_count": 50,
     "metadata": {},
     "output_type": "execute_result"
    }
   ],
   "source": [
    "model.score(x_test,y_test)"
   ]
  },
  {
   "cell_type": "code",
   "execution_count": 29,
   "id": "42c3fa65",
   "metadata": {},
   "outputs": [
    {
     "data": {
      "text/plain": [
       "613094.5219690707"
      ]
     },
     "execution_count": 29,
     "metadata": {},
     "output_type": "execute_result"
    }
   ],
   "source": [
    "model.intercept_"
   ]
  },
  {
   "cell_type": "code",
   "execution_count": 56,
   "id": "ca809335",
   "metadata": {
    "collapsed": true
   },
   "outputs": [
    {
     "name": "stdout",
     "output_type": "stream",
     "text": [
      "744\n"
     ]
    },
    {
     "data": {
      "text/plain": [
       "array([ 2.68402139e+05, -4.68036267e+04, -8.83187523e+04,  1.29683964e+05,\n",
       "        3.86512330e+04,  2.17321307e+00,  4.00231832e+01,  1.81223955e+00,\n",
       "        2.67243119e+05, -5.06282276e+04, -1.37240682e+04,  2.23469288e+05,\n",
       "        1.36368313e+05,  2.64547188e+05,  1.75051561e+05, -9.58349353e+04,\n",
       "       -1.59576663e+05, -6.35228051e+04,  1.56982057e+05, -1.10010769e+05,\n",
       "       -5.10649039e+04, -3.99137970e+03,  8.85701603e+04, -2.43268666e+05,\n",
       "       -1.13032569e+05, -2.21949313e+05,  1.25547346e+05, -1.27818648e+05,\n",
       "        1.34981902e+05,  2.45838710e+04,  1.61845340e+05,  8.20706999e+04,\n",
       "       -3.54567201e+04,  2.05054629e+04,  1.65180194e+05, -4.06136305e+05,\n",
       "        9.59999538e+04, -8.17166400e+03, -8.12600784e+04,  3.00391083e+05,\n",
       "        1.95658957e+05, -1.45986689e+05, -5.10492526e+04,  3.03667227e+05,\n",
       "        1.83353033e+05,  1.72042889e+05,  1.77323055e+05, -1.36395025e+05,\n",
       "       -1.07015005e+05,  3.38472175e+05, -1.11412071e+05, -5.73483017e+04,\n",
       "       -8.88589570e+04,  1.01817658e+05,  2.90224252e+04,  5.64041916e+03,\n",
       "       -1.46333004e+04,  2.43049702e+05, -1.95608124e+05,  2.34523962e+05,\n",
       "       -1.69499968e+05,  2.43942436e+04, -2.08670389e+05, -2.65644702e+05,\n",
       "       -4.91333295e+04, -1.67368635e+04, -8.54365095e+04,  4.00987836e+04,\n",
       "       -1.16306767e+05,  5.55410848e+05,  3.47300060e+04,  3.59088596e+05,\n",
       "        9.58193275e+03, -1.90086545e+05,  4.22414843e+05, -9.05117175e+04,\n",
       "       -1.84833268e+05, -7.97022035e+03, -5.90594887e+04,  4.85337297e+04,\n",
       "       -6.88803755e+04,  2.98387066e+05, -1.05756225e+05, -2.16492217e+05,\n",
       "       -1.29502085e+05, -3.75964908e+05, -4.78473588e+04, -2.25393166e+05,\n",
       "        1.38113116e+05,  2.51843571e+05, -1.20372121e+05, -2.35199640e+05,\n",
       "       -6.60837610e+04,  2.38889904e+04, -1.16565075e+05, -6.12899664e+03,\n",
       "        8.56338130e+04, -9.89530236e-10, -5.75956531e+04,  1.78649568e+04,\n",
       "        7.40918305e+03,  5.96199975e+04, -1.36007301e+05, -9.79347186e+02,\n",
       "        1.00103598e+05, -2.94227267e+05,  8.72863240e+04, -1.23350472e+05,\n",
       "        1.66006505e+04,  2.57048549e+05, -3.02273676e+04,  3.53046308e+03,\n",
       "       -1.78431825e+05, -1.61320437e+05,  3.11697434e+05, -1.44744914e+05,\n",
       "       -2.94413586e+05,  1.84190229e+04,  3.64638285e+04,  1.46207817e+05,\n",
       "       -2.83204334e+05, -2.59426340e+05,  2.51504282e+05,  2.48284182e+05,\n",
       "        2.45415310e+05,  8.23112178e+04, -1.15035194e+04, -2.64863104e+05,\n",
       "        5.13879382e+04, -1.55307633e+05, -1.77962038e+05, -1.95119373e+04,\n",
       "        1.31313248e+05,  6.62756828e+04, -1.44512769e+04, -1.65422537e+05,\n",
       "        1.05653158e+05,  1.35411827e+05, -4.68999023e+04,  1.48397891e+05,\n",
       "        4.22930760e+04,  2.36323375e+05,  2.62894457e+05, -1.01498798e+05,\n",
       "       -3.49261441e+04, -1.12945815e+05,  2.22640657e+05, -1.33406506e+05,\n",
       "        4.05620206e+05, -2.10208356e+05,  1.36590423e+05,  2.18940560e+05,\n",
       "       -2.42652427e+05, -2.85827965e+04, -7.32113176e+04,  2.97441900e+05,\n",
       "       -5.55723821e+04, -2.03045493e+05,  2.66368955e+04,  7.13996250e+04,\n",
       "       -1.20274383e+05,  2.04078391e+05,  1.30732916e+05, -2.32181149e+05,\n",
       "       -4.09506375e+04, -3.22820159e+05, -1.66501480e+05,  0.00000000e+00,\n",
       "       -7.88318486e+04,  5.46148408e+04, -1.44868652e+05, -3.84820700e+05,\n",
       "       -4.56254613e+05, -9.80697392e+04, -2.49951980e+03, -2.63365688e+04,\n",
       "        3.82759098e+04, -8.42781982e+04, -2.65922179e+03, -9.32756987e+03,\n",
       "        4.90631122e+05, -1.04724717e+05,  2.91038305e-10, -1.58086418e+05,\n",
       "        5.34980903e+04, -2.50805635e+04,  6.32152897e+04,  1.30063001e+05,\n",
       "       -2.53642683e+04, -6.43071762e+04, -5.43705728e+04, -1.23428449e+05,\n",
       "        7.77499736e+04,  1.19607166e+05, -1.09858077e+05, -7.05949808e+04,\n",
       "        5.18799120e+04, -1.24492700e+04, -2.28615408e+05,  5.65916502e+04,\n",
       "       -9.53707499e+04,  6.00777701e+04, -1.20076211e+05, -1.29444620e+05,\n",
       "       -6.15039886e+03,  1.37050174e+05, -2.61934474e-10,  5.57040858e+04,\n",
       "       -6.99763860e+04,  4.11228934e+05, -1.43559839e+04, -1.31084864e+04,\n",
       "        2.38946658e+05, -1.53844245e+04,  2.32522762e+04, -7.46182591e+03,\n",
       "        4.82917239e+04, -2.14230814e+04,  7.72495415e+04,  1.24320506e+05,\n",
       "        4.11598763e+04,  5.09222307e+05, -9.54095641e+04,  1.14884561e+05,\n",
       "        3.77010779e+04,  6.31398727e+04, -9.46430492e+04, -2.44193943e+05,\n",
       "        5.75535773e+04, -1.21976630e+05, -1.38470393e+05,  1.58673809e+05,\n",
       "       -3.70655616e+04,  1.79270652e+05, -4.37266989e+04,  7.97108907e+03,\n",
       "        7.54758587e+04, -3.10102976e+05, -3.71403775e+04,  8.99963214e+04,\n",
       "        1.97220095e+04, -2.48778187e+04,  4.16236085e+05,  1.49622261e+05,\n",
       "        2.76001019e+04,  1.68787525e+04,  6.29797776e+04, -1.16191070e+04,\n",
       "       -1.52678448e+04, -3.79530650e+05,  1.00046558e+05,  1.16143676e+05,\n",
       "        2.95112944e+05,  1.90867555e+05,  2.73765437e+05, -3.18089888e+04,\n",
       "        1.94356944e+05, -1.97906047e-09,  1.98827483e+05, -1.79918526e+05,\n",
       "       -4.56505920e+04, -2.66772706e+05, -8.86903819e+04,  5.00117109e+05,\n",
       "        2.41794528e+05, -8.97282413e+04,  3.50601341e+04,  2.95425328e+05,\n",
       "        4.12031682e+04,  8.61222969e+04, -1.08888884e+05, -1.53355258e+05,\n",
       "        3.31224815e+05, -2.14763581e+05, -2.21809730e+05, -7.10309460e+04,\n",
       "       -1.81321630e+05,  1.53925319e+05,  8.16578402e+04, -1.55745894e+05,\n",
       "        1.39025403e+05,  1.05072454e+05,  4.59200831e+04,  3.53104174e+05,\n",
       "       -8.26200586e+04, -8.57934365e+04, -1.90274449e+05, -8.77330624e+04,\n",
       "       -8.39299118e+04, -3.82355696e+05, -6.50199658e+04, -5.53621472e+04,\n",
       "       -5.04042395e+04,  5.80364670e+04, -3.49394412e+05, -1.15247412e+05,\n",
       "        7.01155535e+04, -3.05758399e+05,  4.80174894e+05,  5.82277245e+04,\n",
       "       -4.67101309e+04, -1.26685157e+05,  2.49110931e+04,  4.74290588e+04,\n",
       "       -4.64525781e+04, -7.75765238e+04, -4.72364874e+04, -2.40870283e+04,\n",
       "        1.34557930e+05, -1.72969447e+05,  2.41768932e+05, -3.89459867e+04,\n",
       "        6.16257078e+04,  1.99726237e+05,  3.00081393e+04,  5.90938885e+03,\n",
       "        6.32923504e+04,  4.12884872e+04, -8.97801324e+04, -8.04145190e+04,\n",
       "       -3.83186020e+05,  2.25567996e+05,  2.80544557e+05, -2.91845305e+05,\n",
       "       -2.32420494e+05,  1.86881696e+05, -1.93236229e+05, -1.42195141e+05,\n",
       "        3.62621334e+04, -1.00789230e+05, -2.31711901e+05, -1.52975193e+05,\n",
       "       -1.09148280e+05, -5.22012722e+04,  5.83740039e+04, -5.27024118e+04,\n",
       "       -1.74702927e+05,  6.09675465e+04, -1.45519152e-10, -1.87289067e+04,\n",
       "        2.80345176e+05,  7.54690487e+04, -1.30531058e+05,  1.77004412e+05,\n",
       "        1.97727783e+04,  3.62409885e+05, -8.37357548e+04,  2.32830644e-10,\n",
       "        4.82236662e+04, -1.83049404e+04, -9.04462936e+04, -2.77662214e+05,\n",
       "       -4.72884981e+05,  7.03844727e+04,  4.81163826e+04,  3.70122546e+04,\n",
       "        5.93300565e+03, -9.47560285e+04,  9.06816758e+04,  4.34485060e+05,\n",
       "        2.62583562e+05, -2.90597687e+05,  5.60590684e+05,  9.67325702e+04,\n",
       "       -1.02613302e+05, -1.50372767e+05,  8.18013296e+04, -2.10955373e+05,\n",
       "        1.56623370e+05,  1.72526057e+05, -5.21555516e+03, -1.25815513e+05,\n",
       "       -5.89743433e+04, -1.27917846e+05, -6.47560228e-10,  1.87805082e+04,\n",
       "        3.21514252e+05,  1.21939705e+05,  6.95152914e+04,  4.02117199e+05,\n",
       "       -3.13053037e+04,  7.15419218e+04, -4.99609164e+04,  7.50862837e+04,\n",
       "        2.40582814e+05,  8.77326142e+04, -1.57427606e+05, -3.91861939e+04,\n",
       "        6.25840995e+04,  1.75349800e+05,  1.01385032e+05,  8.27923000e+05,\n",
       "        1.44797690e+05, -7.49530958e+04, -1.45886941e+04, -4.57935433e+04,\n",
       "       -6.80860064e+04,  6.96446219e+04,  5.46872170e+04,  9.95780040e+04,\n",
       "       -1.18382973e+04,  1.31415885e+05,  3.49245965e-10, -3.85815044e+04,\n",
       "        7.02078195e+04, -1.50581338e+05, -7.56699592e-10,  3.50679975e+05,\n",
       "       -9.42261927e+04,  7.19628570e+04, -1.30900318e+05,  3.24661820e+05,\n",
       "        7.01310024e+04,  1.66463998e+05,  1.24240395e+05,  3.82040861e+05,\n",
       "        1.03984521e+05, -2.65714258e+05,  1.22325691e+05, -2.76549807e+05,\n",
       "        9.27856614e+04, -2.27057013e+05,  7.76200589e+04, -1.25875393e+05,\n",
       "       -1.45519152e-11,  9.30059336e+04,  1.86389718e+05,  1.60122353e+05,\n",
       "        2.36616419e+05,  1.11059768e+05, -5.82076609e-11, -4.34878671e+04,\n",
       "       -1.60562020e+05, -6.28177543e+04,  4.88532848e+04,  8.01323015e+04,\n",
       "       -1.92149379e+04,  8.90362445e+03,  1.38389750e+06,  1.80152381e+05,\n",
       "       -2.56349236e+05,  1.05718385e+05, -5.22577035e+03, -5.35878004e+05,\n",
       "       -9.83481946e+04, -1.45177071e+05, -1.18001450e+05,  5.06172657e+04,\n",
       "        7.09160515e+04, -3.63797881e-10, -5.44721691e+03,  8.35548346e+04,\n",
       "        9.64551448e+04,  1.19573850e+05,  2.20174893e+05,  6.62516281e+04,\n",
       "       -6.97161214e+04, -5.72981662e-10,  2.21822003e+04,  1.56720756e+06,\n",
       "        6.75402587e+04,  3.27418093e-10,  3.68200575e+04,  6.48730618e+04,\n",
       "        5.36338625e+03, -2.14191074e+05, -1.73333772e+05,  1.31474869e+04,\n",
       "       -4.60063421e+05,  1.74622983e-10,  8.28289661e+04,  1.13180388e+05,\n",
       "        1.07499698e+05,  5.51950627e+05,  6.50599544e+04,  1.24439537e+06,\n",
       "       -9.88916133e+04, -2.15550261e+05,  7.64785216e+04, -8.52065794e+04,\n",
       "       -6.83566076e+03, -4.84318813e+04,  1.80032926e+04,  3.92294177e+04,\n",
       "        6.98491931e-10, -5.28258644e+04, -1.10230758e-09,  2.17082648e+05,\n",
       "        7.93863504e+04,  6.47560228e-10,  1.66583851e+04,  1.31647811e+04,\n",
       "       -8.71470228e+04, -2.42610148e+04,  1.23739601e+05,  5.00179551e+04,\n",
       "        9.63465620e+04,  6.21546135e+04,  1.46453954e+05,  4.72511940e+04,\n",
       "        1.01539424e+05, -1.72618333e+05, -1.72662292e+04,  1.66605750e+05,\n",
       "        9.81369080e+04,  4.12340910e+04, -3.51770978e+05,  5.98488637e+05,\n",
       "        2.33925133e+05,  1.07880010e+05,  4.64717206e+05, -2.65685814e+04,\n",
       "        8.03695503e+04, -7.93591346e+04,  4.81252928e+04, -1.08952577e+05,\n",
       "        4.26185822e+05, -1.34738241e+05,  1.57108075e+05,  5.82076609e-10,\n",
       "       -5.43466410e+04,  9.60348547e+04,  3.70517343e+04,  1.02440299e+05,\n",
       "        2.89793021e+05,  9.48393162e+04,  3.01654636e+05, -6.10832409e+05,\n",
       "        1.01736652e+04,  1.55785532e+05, -3.07761863e+04,  3.24672929e+04,\n",
       "       -8.56843388e+04, -1.56402835e+05,  2.98763389e+04,  4.87489160e-10,\n",
       "        3.94022390e+05, -4.50893367e+04,  5.11735567e+04,  2.57923108e+05,\n",
       "        1.87593012e+05, -5.67060925e+04,  8.14506954e+04, -1.98524769e+05,\n",
       "       -5.26014735e+04,  9.94569591e+04,  1.35624509e+05,  4.34905407e+04,\n",
       "       -6.89482945e+04,  1.65620084e+05, -2.68537600e+04, -2.97342166e+04,\n",
       "        1.32439567e+05,  7.02530661e+04,  6.84598084e+05,  2.14007741e+05,\n",
       "        7.91772886e+04, -2.12796099e+05,  6.94897069e+04,  5.90797442e+04,\n",
       "        4.65661287e-10, -5.83961033e+04,  7.25755639e+04, -1.13837888e+04,\n",
       "        5.75768131e+04,  8.51703318e+05,  1.57395061e+05,  4.33431161e+04,\n",
       "        1.95811412e+05,  4.21518950e+04,  3.13172818e+05,  6.70029399e+04,\n",
       "       -1.50430609e+05,  1.32138341e+05,  3.36981029e+05,  9.45255209e+04,\n",
       "        3.06732176e+04,  1.04524373e+05,  2.56816890e+04, -3.76896000e+04,\n",
       "       -2.76515532e+05,  5.07794177e+04, -1.29096261e+05, -5.77636257e+04,\n",
       "        2.79303321e+05,  4.21993108e+04,  1.87399172e+05,  3.23348592e+05,\n",
       "        1.98183992e+05,  3.25484816e+05,  3.44169229e+05, -7.68905567e+03,\n",
       "        6.53271537e+04,  8.22699170e+04,  1.10904915e+05, -8.14336901e+04,\n",
       "        3.78349796e-10,  7.24779929e+04, -2.61934474e-10,  4.39865950e+04,\n",
       "       -5.71932569e+05, -3.97919663e+05, -3.40434475e+04,  5.33489533e+04,\n",
       "        3.22325746e+04,  7.84865229e+04,  8.62186771e+04,  2.59033370e+05,\n",
       "        5.42637063e+04,  3.88661797e+04, -2.64719221e+04,  2.34056856e+04,\n",
       "       -9.71785774e+04, -5.08344157e+05,  3.29155910e+05,  1.26291019e+05,\n",
       "        6.20433900e+04, -1.74622983e-10,  6.94292210e+04,  6.20304137e+04,\n",
       "        9.71023084e+04,  7.08646002e+04,  4.79781087e+04,  3.43213124e+05,\n",
       "        2.91038305e-10,  3.56067199e+05, -3.60972291e+05,  9.60406254e+04,\n",
       "        9.11435146e+04,  1.72067586e+05, -5.73539889e+05,  1.73746979e+05,\n",
       "       -3.57587568e+05,  3.12597437e+04, -1.73048493e+05, -2.40365783e+05,\n",
       "        1.74622983e-10,  8.81410165e+04, -4.47322392e+05,  1.69125646e+06,\n",
       "        1.19808093e+05,  1.69316894e+05, -4.23493760e+04, -2.91038305e-10,\n",
       "        4.70007200e+04, -2.87591880e+05,  6.37580128e+04, -4.65885450e+04,\n",
       "        3.49245965e-10,  5.38745656e+05, -1.16442479e+05,  1.10532151e+05,\n",
       "        1.35781175e+04, -4.45331205e+04, -4.95548237e+05, -4.50057877e+04,\n",
       "        1.29856862e+05,  1.14665674e+05, -1.26137713e+05,  4.53645395e+04,\n",
       "        2.95632109e+05,  2.42742079e+05,  1.55076261e+05,  8.37168989e+05,\n",
       "       -1.22938394e+05, -4.86609228e+04, -9.01258642e+04, -2.91038305e-11,\n",
       "        9.74583212e+04, -6.63169547e+04,  7.38979625e+05,  5.84976698e+04,\n",
       "        5.62459094e+04,  9.70943637e+05,  2.05447795e+05, -6.70493167e+04,\n",
       "       -5.70013886e+04,  0.00000000e+00,  3.97141595e+03,  8.96230586e+04,\n",
       "        7.27784024e+04,  1.62757311e+05, -5.57056781e+04,  1.67180718e+04,\n",
       "        4.39462137e+04, -6.97114740e+04, -2.89720785e+05,  6.74387439e+04,\n",
       "        0.00000000e+00,  1.37841066e+05,  2.06441658e+04,  1.66241781e+05,\n",
       "        2.57548297e+05,  0.00000000e+00,  1.34823214e+05,  0.00000000e+00,\n",
       "        6.46557326e+05,  0.00000000e+00,  2.53338259e+05,  4.24136776e+03,\n",
       "        6.94290125e+03, -2.25729922e+05,  1.68873231e+05,  1.79937510e+05,\n",
       "       -1.10049677e+05,  4.30546510e+05,  3.08778038e+05, -1.97384782e+05,\n",
       "        2.24900611e+05,  1.61372369e+05,  6.62161896e+03,  3.39504124e+05,\n",
       "        1.00662463e+05, -4.43585512e+04, -8.32492417e+04, -8.95222736e+04,\n",
       "        1.61940306e+05,  5.84982371e+04,  5.75377297e+05,  8.17153713e+04,\n",
       "       -1.60583652e+05,  1.05033818e+05,  4.60922100e+02, -1.13223805e+05,\n",
       "        2.25567996e+05,  4.31413449e+04,  9.70765556e+03,  1.42147996e+05,\n",
       "       -6.47974685e+04, -2.08652806e+04,  6.68527087e+04,  2.58193131e+05,\n",
       "        8.07334341e+04,  2.53211635e+04, -1.71150168e+05, -3.13662140e+04,\n",
       "       -1.39160199e+04,  3.28012127e+05, -2.32545961e+05,  2.18185514e+05,\n",
       "        1.55093405e+05,  6.27234028e+03, -2.19452551e+05,  1.99772095e+05])"
      ]
     },
     "execution_count": 56,
     "metadata": {},
     "output_type": "execute_result"
    }
   ],
   "source": [
    "print(len(model.coef_))\n",
    "model.coef_"
   ]
  },
  {
   "cell_type": "code",
   "execution_count": 55,
   "id": "e3028423",
   "metadata": {},
   "outputs": [
    {
     "data": {
      "text/plain": [
       "744"
      ]
     },
     "execution_count": 55,
     "metadata": {},
     "output_type": "execute_result"
    }
   ],
   "source": [
    "model.n_features_in_ #This attribute gives you the number of features the model was trained on"
   ]
  },
  {
   "cell_type": "code",
   "execution_count": 54,
   "id": "cea99cc4",
   "metadata": {},
   "outputs": [
    {
     "name": "stdout",
     "output_type": "stream",
     "text": [
      "0.6828751995878044\n",
      "-11379599271.075367\n"
     ]
    }
   ],
   "source": [
    "train_score = list()\n",
    "test_score =list()\n",
    "for i in range(100):\n",
    "    x_train,x_test,y_train,y_test = train_test_split(x,y,test_size=0.2)\n",
    "    model.fit(x_train,y_train)\n",
    "    train_score.append(model.score(x_train,y_train))\n",
    "    test_score.append(model.score(x_test,y_test))\n",
    "print(np.array(train_score).mean())\n",
    "print(np.array(test_score).mean())"
   ]
  },
  {
   "cell_type": "markdown",
   "id": "0769bcbe",
   "metadata": {},
   "source": [
    "**As we can there is huge gap between test and train score, it is because of overfitting.**"
   ]
  },
  {
   "cell_type": "code",
   "execution_count": 62,
   "id": "06b46500",
   "metadata": {},
   "outputs": [],
   "source": [
    "model2 = Lasso(alpha=10,tol=0.0001,max_iter=10000)"
   ]
  },
  {
   "cell_type": "code",
   "execution_count": 63,
   "id": "4b2312a1",
   "metadata": {},
   "outputs": [
    {
     "data": {
      "text/html": [
       "<style>#sk-container-id-6 {color: black;}#sk-container-id-6 pre{padding: 0;}#sk-container-id-6 div.sk-toggleable {background-color: white;}#sk-container-id-6 label.sk-toggleable__label {cursor: pointer;display: block;width: 100%;margin-bottom: 0;padding: 0.3em;box-sizing: border-box;text-align: center;}#sk-container-id-6 label.sk-toggleable__label-arrow:before {content: \"▸\";float: left;margin-right: 0.25em;color: #696969;}#sk-container-id-6 label.sk-toggleable__label-arrow:hover:before {color: black;}#sk-container-id-6 div.sk-estimator:hover label.sk-toggleable__label-arrow:before {color: black;}#sk-container-id-6 div.sk-toggleable__content {max-height: 0;max-width: 0;overflow: hidden;text-align: left;background-color: #f0f8ff;}#sk-container-id-6 div.sk-toggleable__content pre {margin: 0.2em;color: black;border-radius: 0.25em;background-color: #f0f8ff;}#sk-container-id-6 input.sk-toggleable__control:checked~div.sk-toggleable__content {max-height: 200px;max-width: 100%;overflow: auto;}#sk-container-id-6 input.sk-toggleable__control:checked~label.sk-toggleable__label-arrow:before {content: \"▾\";}#sk-container-id-6 div.sk-estimator input.sk-toggleable__control:checked~label.sk-toggleable__label {background-color: #d4ebff;}#sk-container-id-6 div.sk-label input.sk-toggleable__control:checked~label.sk-toggleable__label {background-color: #d4ebff;}#sk-container-id-6 input.sk-hidden--visually {border: 0;clip: rect(1px 1px 1px 1px);clip: rect(1px, 1px, 1px, 1px);height: 1px;margin: -1px;overflow: hidden;padding: 0;position: absolute;width: 1px;}#sk-container-id-6 div.sk-estimator {font-family: monospace;background-color: #f0f8ff;border: 1px dotted black;border-radius: 0.25em;box-sizing: border-box;margin-bottom: 0.5em;}#sk-container-id-6 div.sk-estimator:hover {background-color: #d4ebff;}#sk-container-id-6 div.sk-parallel-item::after {content: \"\";width: 100%;border-bottom: 1px solid gray;flex-grow: 1;}#sk-container-id-6 div.sk-label:hover label.sk-toggleable__label {background-color: #d4ebff;}#sk-container-id-6 div.sk-serial::before {content: \"\";position: absolute;border-left: 1px solid gray;box-sizing: border-box;top: 0;bottom: 0;left: 50%;z-index: 0;}#sk-container-id-6 div.sk-serial {display: flex;flex-direction: column;align-items: center;background-color: white;padding-right: 0.2em;padding-left: 0.2em;position: relative;}#sk-container-id-6 div.sk-item {position: relative;z-index: 1;}#sk-container-id-6 div.sk-parallel {display: flex;align-items: stretch;justify-content: center;background-color: white;position: relative;}#sk-container-id-6 div.sk-item::before, #sk-container-id-6 div.sk-parallel-item::before {content: \"\";position: absolute;border-left: 1px solid gray;box-sizing: border-box;top: 0;bottom: 0;left: 50%;z-index: -1;}#sk-container-id-6 div.sk-parallel-item {display: flex;flex-direction: column;z-index: 1;position: relative;background-color: white;}#sk-container-id-6 div.sk-parallel-item:first-child::after {align-self: flex-end;width: 50%;}#sk-container-id-6 div.sk-parallel-item:last-child::after {align-self: flex-start;width: 50%;}#sk-container-id-6 div.sk-parallel-item:only-child::after {width: 0;}#sk-container-id-6 div.sk-dashed-wrapped {border: 1px dashed gray;margin: 0 0.4em 0.5em 0.4em;box-sizing: border-box;padding-bottom: 0.4em;background-color: white;}#sk-container-id-6 div.sk-label label {font-family: monospace;font-weight: bold;display: inline-block;line-height: 1.2em;}#sk-container-id-6 div.sk-label-container {text-align: center;}#sk-container-id-6 div.sk-container {/* jupyter's `normalize.less` sets `[hidden] { display: none; }` but bootstrap.min.css set `[hidden] { display: none !important; }` so we also need the `!important` here to be able to override the default hidden behavior on the sphinx rendered scikit-learn.org. See: https://github.com/scikit-learn/scikit-learn/issues/21755 */display: inline-block !important;position: relative;}#sk-container-id-6 div.sk-text-repr-fallback {display: none;}</style><div id=\"sk-container-id-6\" class=\"sk-top-container\"><div class=\"sk-text-repr-fallback\"><pre>Lasso(alpha=10, max_iter=10000)</pre><b>In a Jupyter environment, please rerun this cell to show the HTML representation or trust the notebook. <br />On GitHub, the HTML representation is unable to render, please try loading this page with nbviewer.org.</b></div><div class=\"sk-container\" hidden><div class=\"sk-item\"><div class=\"sk-estimator sk-toggleable\"><input class=\"sk-toggleable__control sk-hidden--visually\" id=\"sk-estimator-id-6\" type=\"checkbox\" checked><label for=\"sk-estimator-id-6\" class=\"sk-toggleable__label sk-toggleable__label-arrow\">Lasso</label><div class=\"sk-toggleable__content\"><pre>Lasso(alpha=10, max_iter=10000)</pre></div></div></div></div></div>"
      ],
      "text/plain": [
       "Lasso(alpha=10, max_iter=10000)"
      ]
     },
     "execution_count": 63,
     "metadata": {},
     "output_type": "execute_result"
    }
   ],
   "source": [
    "model2.fit(x_train,y_train)"
   ]
  },
  {
   "cell_type": "code",
   "execution_count": 64,
   "id": "28a1a048",
   "metadata": {},
   "outputs": [
    {
     "data": {
      "text/plain": [
       "0.6819401107965911"
      ]
     },
     "execution_count": 64,
     "metadata": {},
     "output_type": "execute_result"
    }
   ],
   "source": [
    "model2.score(x_train,y_train)"
   ]
  },
  {
   "cell_type": "code",
   "execution_count": 65,
   "id": "0d460f74",
   "metadata": {},
   "outputs": [
    {
     "data": {
      "text/plain": [
       "0.6619406723358272"
      ]
     },
     "execution_count": 65,
     "metadata": {},
     "output_type": "execute_result"
    }
   ],
   "source": [
    "model2.score(x_test,y_test)"
   ]
  },
  {
   "cell_type": "code",
   "execution_count": 68,
   "id": "1c4505e5",
   "metadata": {},
   "outputs": [],
   "source": [
    "model3 =Ridge(alpha=10,tol=0.0001,max_iter=10000)"
   ]
  },
  {
   "cell_type": "code",
   "execution_count": 69,
   "id": "dea46bc9",
   "metadata": {},
   "outputs": [
    {
     "data": {
      "text/html": [
       "<style>#sk-container-id-7 {color: black;}#sk-container-id-7 pre{padding: 0;}#sk-container-id-7 div.sk-toggleable {background-color: white;}#sk-container-id-7 label.sk-toggleable__label {cursor: pointer;display: block;width: 100%;margin-bottom: 0;padding: 0.3em;box-sizing: border-box;text-align: center;}#sk-container-id-7 label.sk-toggleable__label-arrow:before {content: \"▸\";float: left;margin-right: 0.25em;color: #696969;}#sk-container-id-7 label.sk-toggleable__label-arrow:hover:before {color: black;}#sk-container-id-7 div.sk-estimator:hover label.sk-toggleable__label-arrow:before {color: black;}#sk-container-id-7 div.sk-toggleable__content {max-height: 0;max-width: 0;overflow: hidden;text-align: left;background-color: #f0f8ff;}#sk-container-id-7 div.sk-toggleable__content pre {margin: 0.2em;color: black;border-radius: 0.25em;background-color: #f0f8ff;}#sk-container-id-7 input.sk-toggleable__control:checked~div.sk-toggleable__content {max-height: 200px;max-width: 100%;overflow: auto;}#sk-container-id-7 input.sk-toggleable__control:checked~label.sk-toggleable__label-arrow:before {content: \"▾\";}#sk-container-id-7 div.sk-estimator input.sk-toggleable__control:checked~label.sk-toggleable__label {background-color: #d4ebff;}#sk-container-id-7 div.sk-label input.sk-toggleable__control:checked~label.sk-toggleable__label {background-color: #d4ebff;}#sk-container-id-7 input.sk-hidden--visually {border: 0;clip: rect(1px 1px 1px 1px);clip: rect(1px, 1px, 1px, 1px);height: 1px;margin: -1px;overflow: hidden;padding: 0;position: absolute;width: 1px;}#sk-container-id-7 div.sk-estimator {font-family: monospace;background-color: #f0f8ff;border: 1px dotted black;border-radius: 0.25em;box-sizing: border-box;margin-bottom: 0.5em;}#sk-container-id-7 div.sk-estimator:hover {background-color: #d4ebff;}#sk-container-id-7 div.sk-parallel-item::after {content: \"\";width: 100%;border-bottom: 1px solid gray;flex-grow: 1;}#sk-container-id-7 div.sk-label:hover label.sk-toggleable__label {background-color: #d4ebff;}#sk-container-id-7 div.sk-serial::before {content: \"\";position: absolute;border-left: 1px solid gray;box-sizing: border-box;top: 0;bottom: 0;left: 50%;z-index: 0;}#sk-container-id-7 div.sk-serial {display: flex;flex-direction: column;align-items: center;background-color: white;padding-right: 0.2em;padding-left: 0.2em;position: relative;}#sk-container-id-7 div.sk-item {position: relative;z-index: 1;}#sk-container-id-7 div.sk-parallel {display: flex;align-items: stretch;justify-content: center;background-color: white;position: relative;}#sk-container-id-7 div.sk-item::before, #sk-container-id-7 div.sk-parallel-item::before {content: \"\";position: absolute;border-left: 1px solid gray;box-sizing: border-box;top: 0;bottom: 0;left: 50%;z-index: -1;}#sk-container-id-7 div.sk-parallel-item {display: flex;flex-direction: column;z-index: 1;position: relative;background-color: white;}#sk-container-id-7 div.sk-parallel-item:first-child::after {align-self: flex-end;width: 50%;}#sk-container-id-7 div.sk-parallel-item:last-child::after {align-self: flex-start;width: 50%;}#sk-container-id-7 div.sk-parallel-item:only-child::after {width: 0;}#sk-container-id-7 div.sk-dashed-wrapped {border: 1px dashed gray;margin: 0 0.4em 0.5em 0.4em;box-sizing: border-box;padding-bottom: 0.4em;background-color: white;}#sk-container-id-7 div.sk-label label {font-family: monospace;font-weight: bold;display: inline-block;line-height: 1.2em;}#sk-container-id-7 div.sk-label-container {text-align: center;}#sk-container-id-7 div.sk-container {/* jupyter's `normalize.less` sets `[hidden] { display: none; }` but bootstrap.min.css set `[hidden] { display: none !important; }` so we also need the `!important` here to be able to override the default hidden behavior on the sphinx rendered scikit-learn.org. See: https://github.com/scikit-learn/scikit-learn/issues/21755 */display: inline-block !important;position: relative;}#sk-container-id-7 div.sk-text-repr-fallback {display: none;}</style><div id=\"sk-container-id-7\" class=\"sk-top-container\"><div class=\"sk-text-repr-fallback\"><pre>Ridge(alpha=10, max_iter=10000)</pre><b>In a Jupyter environment, please rerun this cell to show the HTML representation or trust the notebook. <br />On GitHub, the HTML representation is unable to render, please try loading this page with nbviewer.org.</b></div><div class=\"sk-container\" hidden><div class=\"sk-item\"><div class=\"sk-estimator sk-toggleable\"><input class=\"sk-toggleable__control sk-hidden--visually\" id=\"sk-estimator-id-7\" type=\"checkbox\" checked><label for=\"sk-estimator-id-7\" class=\"sk-toggleable__label sk-toggleable__label-arrow\">Ridge</label><div class=\"sk-toggleable__content\"><pre>Ridge(alpha=10, max_iter=10000)</pre></div></div></div></div></div>"
      ],
      "text/plain": [
       "Ridge(alpha=10, max_iter=10000)"
      ]
     },
     "execution_count": 69,
     "metadata": {},
     "output_type": "execute_result"
    }
   ],
   "source": [
    "model3.fit(x_train,y_train)"
   ]
  },
  {
   "cell_type": "code",
   "execution_count": 70,
   "id": "69c0fb47",
   "metadata": {},
   "outputs": [
    {
     "data": {
      "text/plain": [
       "0.6773760721653903"
      ]
     },
     "execution_count": 70,
     "metadata": {},
     "output_type": "execute_result"
    }
   ],
   "source": [
    "model3.score(x_train,y_train)"
   ]
  },
  {
   "cell_type": "code",
   "execution_count": 71,
   "id": "6e488c1e",
   "metadata": {},
   "outputs": [
    {
     "data": {
      "text/plain": [
       "0.6659231145663205"
      ]
     },
     "execution_count": 71,
     "metadata": {},
     "output_type": "execute_result"
    }
   ],
   "source": [
    "model3.score(x_test,y_test)"
   ]
  },
  {
   "cell_type": "code",
   "execution_count": null,
   "id": "deecea0a",
   "metadata": {},
   "outputs": [],
   "source": []
  }
 ],
 "metadata": {
  "kernelspec": {
   "display_name": "Python 3 (ipykernel)",
   "language": "python",
   "name": "python3"
  },
  "language_info": {
   "codemirror_mode": {
    "name": "ipython",
    "version": 3
   },
   "file_extension": ".py",
   "mimetype": "text/x-python",
   "name": "python",
   "nbconvert_exporter": "python",
   "pygments_lexer": "ipython3",
   "version": "3.11.5"
  }
 },
 "nbformat": 4,
 "nbformat_minor": 5
}
