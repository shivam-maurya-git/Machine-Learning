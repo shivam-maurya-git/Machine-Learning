{
 "cells": [
  {
   "cell_type": "code",
   "execution_count": 1,
   "id": "9cacec25",
   "metadata": {
    "_cell_guid": "b1076dfc-b9ad-4769-8c92-a6c4dae69d19",
    "_uuid": "8f2839f25d086af736a60e9eeb907d3b93b6e0e5",
    "execution": {
     "iopub.execute_input": "2023-12-25T05:47:34.223584Z",
     "iopub.status.busy": "2023-12-25T05:47:34.223127Z",
     "iopub.status.idle": "2023-12-25T05:47:34.703425Z",
     "shell.execute_reply": "2023-12-25T05:47:34.702143Z"
    },
    "papermill": {
     "duration": 0.496249,
     "end_time": "2023-12-25T05:47:34.706029",
     "exception": false,
     "start_time": "2023-12-25T05:47:34.209780",
     "status": "completed"
    },
    "tags": []
   },
   "outputs": [
    {
     "name": "stdout",
     "output_type": "stream",
     "text": [
      "/kaggle/input/pima-indians-diabetes/pima-indians-diabetes.csv\n"
     ]
    }
   ],
   "source": [
    "# This Python 3 environment comes with many helpful analytics libraries installed\n",
    "# It is defined by the kaggle/python Docker image: https://github.com/kaggle/docker-python\n",
    "# For example, here's several helpful packages to load\n",
    "\n",
    "import numpy as np # linear algebra\n",
    "import pandas as pd # data processing, CSV file I/O (e.g. pd.read_csv)\n",
    "\n",
    "# Input data files are available in the read-only \"../input/\" directory\n",
    "# For example, running this (by clicking run or pressing Shift+Enter) will list all files under the input directory\n",
    "\n",
    "import os\n",
    "for dirname, _, filenames in os.walk('/kaggle/input'):\n",
    "    for filename in filenames:\n",
    "        print(os.path.join(dirname, filename))\n",
    "\n",
    "# You can write up to 20GB to the current directory (/kaggle/working/) that gets preserved as output when you create a version using \"Save & Run All\" \n",
    "# You can also write temporary files to /kaggle/temp/, but they won't be saved outside of the current session"
   ]
  },
  {
   "cell_type": "markdown",
   "id": "53be3882",
   "metadata": {
    "papermill": {
     "duration": 0.010854,
     "end_time": "2023-12-25T05:47:34.728643",
     "exception": false,
     "start_time": "2023-12-25T05:47:34.717789",
     "status": "completed"
    },
    "tags": []
   },
   "source": [
    "## Import ML Libraries"
   ]
  },
  {
   "cell_type": "code",
   "execution_count": 2,
   "id": "79603120",
   "metadata": {
    "execution": {
     "iopub.execute_input": "2023-12-25T05:47:34.753907Z",
     "iopub.status.busy": "2023-12-25T05:47:34.752738Z",
     "iopub.status.idle": "2023-12-25T05:47:36.322411Z",
     "shell.execute_reply": "2023-12-25T05:47:36.321410Z"
    },
    "papermill": {
     "duration": 1.585431,
     "end_time": "2023-12-25T05:47:36.325206",
     "exception": false,
     "start_time": "2023-12-25T05:47:34.739775",
     "status": "completed"
    },
    "tags": []
   },
   "outputs": [],
   "source": [
    "import pandas as pd\n",
    "import seaborn as sns"
   ]
  },
  {
   "cell_type": "code",
   "execution_count": 3,
   "id": "dd679635",
   "metadata": {
    "execution": {
     "iopub.execute_input": "2023-12-25T05:47:36.350541Z",
     "iopub.status.busy": "2023-12-25T05:47:36.349812Z",
     "iopub.status.idle": "2023-12-25T05:47:37.059099Z",
     "shell.execute_reply": "2023-12-25T05:47:37.057719Z"
    },
    "papermill": {
     "duration": 0.725259,
     "end_time": "2023-12-25T05:47:37.061977",
     "exception": false,
     "start_time": "2023-12-25T05:47:36.336718",
     "status": "completed"
    },
    "tags": []
   },
   "outputs": [],
   "source": [
    "from sklearn.preprocessing import StandardScaler\n",
    "from sklearn.model_selection import train_test_split\n",
    "from sklearn.model_selection import cross_val_score\n",
    "from sklearn.tree import DecisionTreeClassifier\n",
    "from sklearn.ensemble import BaggingClassifier"
   ]
  },
  {
   "cell_type": "markdown",
   "id": "f30cb1fc",
   "metadata": {
    "papermill": {
     "duration": 0.011939,
     "end_time": "2023-12-25T05:47:37.085370",
     "exception": false,
     "start_time": "2023-12-25T05:47:37.073431",
     "status": "completed"
    },
    "tags": []
   },
   "source": [
    "## Loading Dataset"
   ]
  },
  {
   "cell_type": "code",
   "execution_count": 4,
   "id": "e0273cb5",
   "metadata": {
    "execution": {
     "iopub.execute_input": "2023-12-25T05:47:37.111265Z",
     "iopub.status.busy": "2023-12-25T05:47:37.110829Z",
     "iopub.status.idle": "2023-12-25T05:47:37.134245Z",
     "shell.execute_reply": "2023-12-25T05:47:37.132717Z"
    },
    "papermill": {
     "duration": 0.040457,
     "end_time": "2023-12-25T05:47:37.137469",
     "exception": false,
     "start_time": "2023-12-25T05:47:37.097012",
     "status": "completed"
    },
    "tags": []
   },
   "outputs": [],
   "source": [
    "df = pd.read_csv('/kaggle/input/pima-indians-diabetes/pima-indians-diabetes.csv')"
   ]
  },
  {
   "cell_type": "code",
   "execution_count": 5,
   "id": "21721c4a",
   "metadata": {
    "execution": {
     "iopub.execute_input": "2023-12-25T05:47:37.162406Z",
     "iopub.status.busy": "2023-12-25T05:47:37.161906Z",
     "iopub.status.idle": "2023-12-25T05:47:37.167174Z",
     "shell.execute_reply": "2023-12-25T05:47:37.165977Z"
    },
    "papermill": {
     "duration": 0.021108,
     "end_time": "2023-12-25T05:47:37.169919",
     "exception": false,
     "start_time": "2023-12-25T05:47:37.148811",
     "status": "completed"
    },
    "tags": []
   },
   "outputs": [],
   "source": [
    "columns = ['Pregnancies','Glucose','BloodPressure','SkinThickness','Insulin','BMI','DiabetesPedigreeFunction','Age','Outcome']"
   ]
  },
  {
   "cell_type": "markdown",
   "id": "e720b2db",
   "metadata": {
    "papermill": {
     "duration": 0.010895,
     "end_time": "2023-12-25T05:47:37.192909",
     "exception": false,
     "start_time": "2023-12-25T05:47:37.182014",
     "status": "completed"
    },
    "tags": []
   },
   "source": [
    "## Data Preprocessing"
   ]
  },
  {
   "cell_type": "code",
   "execution_count": 6,
   "id": "18479de1",
   "metadata": {
    "execution": {
     "iopub.execute_input": "2023-12-25T05:47:37.217767Z",
     "iopub.status.busy": "2023-12-25T05:47:37.217091Z",
     "iopub.status.idle": "2023-12-25T05:47:37.222077Z",
     "shell.execute_reply": "2023-12-25T05:47:37.221179Z"
    },
    "papermill": {
     "duration": 0.019958,
     "end_time": "2023-12-25T05:47:37.224486",
     "exception": false,
     "start_time": "2023-12-25T05:47:37.204528",
     "status": "completed"
    },
    "tags": []
   },
   "outputs": [],
   "source": [
    "df.columns = columns"
   ]
  },
  {
   "cell_type": "code",
   "execution_count": 7,
   "id": "843e64a4",
   "metadata": {
    "execution": {
     "iopub.execute_input": "2023-12-25T05:47:37.250849Z",
     "iopub.status.busy": "2023-12-25T05:47:37.249994Z",
     "iopub.status.idle": "2023-12-25T05:47:37.277050Z",
     "shell.execute_reply": "2023-12-25T05:47:37.276183Z"
    },
    "papermill": {
     "duration": 0.043411,
     "end_time": "2023-12-25T05:47:37.279402",
     "exception": false,
     "start_time": "2023-12-25T05:47:37.235991",
     "status": "completed"
    },
    "tags": []
   },
   "outputs": [
    {
     "data": {
      "text/html": [
       "<div>\n",
       "<style scoped>\n",
       "    .dataframe tbody tr th:only-of-type {\n",
       "        vertical-align: middle;\n",
       "    }\n",
       "\n",
       "    .dataframe tbody tr th {\n",
       "        vertical-align: top;\n",
       "    }\n",
       "\n",
       "    .dataframe thead th {\n",
       "        text-align: right;\n",
       "    }\n",
       "</style>\n",
       "<table border=\"1\" class=\"dataframe\">\n",
       "  <thead>\n",
       "    <tr style=\"text-align: right;\">\n",
       "      <th></th>\n",
       "      <th>Pregnancies</th>\n",
       "      <th>Glucose</th>\n",
       "      <th>BloodPressure</th>\n",
       "      <th>SkinThickness</th>\n",
       "      <th>Insulin</th>\n",
       "      <th>BMI</th>\n",
       "      <th>DiabetesPedigreeFunction</th>\n",
       "      <th>Age</th>\n",
       "      <th>Outcome</th>\n",
       "    </tr>\n",
       "  </thead>\n",
       "  <tbody>\n",
       "    <tr>\n",
       "      <th>0</th>\n",
       "      <td>1</td>\n",
       "      <td>85</td>\n",
       "      <td>66</td>\n",
       "      <td>29</td>\n",
       "      <td>0</td>\n",
       "      <td>26.6</td>\n",
       "      <td>0.351</td>\n",
       "      <td>31</td>\n",
       "      <td>0</td>\n",
       "    </tr>\n",
       "    <tr>\n",
       "      <th>1</th>\n",
       "      <td>8</td>\n",
       "      <td>183</td>\n",
       "      <td>64</td>\n",
       "      <td>0</td>\n",
       "      <td>0</td>\n",
       "      <td>23.3</td>\n",
       "      <td>0.672</td>\n",
       "      <td>32</td>\n",
       "      <td>1</td>\n",
       "    </tr>\n",
       "    <tr>\n",
       "      <th>2</th>\n",
       "      <td>1</td>\n",
       "      <td>89</td>\n",
       "      <td>66</td>\n",
       "      <td>23</td>\n",
       "      <td>94</td>\n",
       "      <td>28.1</td>\n",
       "      <td>0.167</td>\n",
       "      <td>21</td>\n",
       "      <td>0</td>\n",
       "    </tr>\n",
       "    <tr>\n",
       "      <th>3</th>\n",
       "      <td>0</td>\n",
       "      <td>137</td>\n",
       "      <td>40</td>\n",
       "      <td>35</td>\n",
       "      <td>168</td>\n",
       "      <td>43.1</td>\n",
       "      <td>2.288</td>\n",
       "      <td>33</td>\n",
       "      <td>1</td>\n",
       "    </tr>\n",
       "    <tr>\n",
       "      <th>4</th>\n",
       "      <td>5</td>\n",
       "      <td>116</td>\n",
       "      <td>74</td>\n",
       "      <td>0</td>\n",
       "      <td>0</td>\n",
       "      <td>25.6</td>\n",
       "      <td>0.201</td>\n",
       "      <td>30</td>\n",
       "      <td>0</td>\n",
       "    </tr>\n",
       "  </tbody>\n",
       "</table>\n",
       "</div>"
      ],
      "text/plain": [
       "   Pregnancies  Glucose  BloodPressure  SkinThickness  Insulin   BMI  \\\n",
       "0            1       85             66             29        0  26.6   \n",
       "1            8      183             64              0        0  23.3   \n",
       "2            1       89             66             23       94  28.1   \n",
       "3            0      137             40             35      168  43.1   \n",
       "4            5      116             74              0        0  25.6   \n",
       "\n",
       "   DiabetesPedigreeFunction  Age  Outcome  \n",
       "0                     0.351   31        0  \n",
       "1                     0.672   32        1  \n",
       "2                     0.167   21        0  \n",
       "3                     2.288   33        1  \n",
       "4                     0.201   30        0  "
      ]
     },
     "execution_count": 7,
     "metadata": {},
     "output_type": "execute_result"
    }
   ],
   "source": [
    "df.head()"
   ]
  },
  {
   "cell_type": "code",
   "execution_count": 8,
   "id": "5295d82f",
   "metadata": {
    "execution": {
     "iopub.execute_input": "2023-12-25T05:47:37.305725Z",
     "iopub.status.busy": "2023-12-25T05:47:37.305266Z",
     "iopub.status.idle": "2023-12-25T05:47:37.315463Z",
     "shell.execute_reply": "2023-12-25T05:47:37.313998Z"
    },
    "papermill": {
     "duration": 0.026919,
     "end_time": "2023-12-25T05:47:37.318230",
     "exception": false,
     "start_time": "2023-12-25T05:47:37.291311",
     "status": "completed"
    },
    "tags": []
   },
   "outputs": [
    {
     "data": {
      "text/plain": [
       "Pregnancies                 0\n",
       "Glucose                     0\n",
       "BloodPressure               0\n",
       "SkinThickness               0\n",
       "Insulin                     0\n",
       "BMI                         0\n",
       "DiabetesPedigreeFunction    0\n",
       "Age                         0\n",
       "Outcome                     0\n",
       "dtype: int64"
      ]
     },
     "execution_count": 8,
     "metadata": {},
     "output_type": "execute_result"
    }
   ],
   "source": [
    "df.isna().sum()"
   ]
  },
  {
   "cell_type": "code",
   "execution_count": 9,
   "id": "c931d648",
   "metadata": {
    "execution": {
     "iopub.execute_input": "2023-12-25T05:47:37.344245Z",
     "iopub.status.busy": "2023-12-25T05:47:37.343838Z",
     "iopub.status.idle": "2023-12-25T05:47:37.352903Z",
     "shell.execute_reply": "2023-12-25T05:47:37.351592Z"
    },
    "papermill": {
     "duration": 0.025626,
     "end_time": "2023-12-25T05:47:37.355754",
     "exception": false,
     "start_time": "2023-12-25T05:47:37.330128",
     "status": "completed"
    },
    "tags": []
   },
   "outputs": [
    {
     "data": {
      "text/plain": [
       "Pregnancies                   int64\n",
       "Glucose                       int64\n",
       "BloodPressure                 int64\n",
       "SkinThickness                 int64\n",
       "Insulin                       int64\n",
       "BMI                         float64\n",
       "DiabetesPedigreeFunction    float64\n",
       "Age                           int64\n",
       "Outcome                       int64\n",
       "dtype: object"
      ]
     },
     "execution_count": 9,
     "metadata": {},
     "output_type": "execute_result"
    }
   ],
   "source": [
    "df.dtypes"
   ]
  },
  {
   "cell_type": "code",
   "execution_count": 10,
   "id": "5570da66",
   "metadata": {
    "execution": {
     "iopub.execute_input": "2023-12-25T05:47:37.382445Z",
     "iopub.status.busy": "2023-12-25T05:47:37.382029Z",
     "iopub.status.idle": "2023-12-25T05:47:37.425463Z",
     "shell.execute_reply": "2023-12-25T05:47:37.424267Z"
    },
    "papermill": {
     "duration": 0.060038,
     "end_time": "2023-12-25T05:47:37.428131",
     "exception": false,
     "start_time": "2023-12-25T05:47:37.368093",
     "status": "completed"
    },
    "tags": []
   },
   "outputs": [
    {
     "data": {
      "text/html": [
       "<div>\n",
       "<style scoped>\n",
       "    .dataframe tbody tr th:only-of-type {\n",
       "        vertical-align: middle;\n",
       "    }\n",
       "\n",
       "    .dataframe tbody tr th {\n",
       "        vertical-align: top;\n",
       "    }\n",
       "\n",
       "    .dataframe thead th {\n",
       "        text-align: right;\n",
       "    }\n",
       "</style>\n",
       "<table border=\"1\" class=\"dataframe\">\n",
       "  <thead>\n",
       "    <tr style=\"text-align: right;\">\n",
       "      <th></th>\n",
       "      <th>Pregnancies</th>\n",
       "      <th>Glucose</th>\n",
       "      <th>BloodPressure</th>\n",
       "      <th>SkinThickness</th>\n",
       "      <th>Insulin</th>\n",
       "      <th>BMI</th>\n",
       "      <th>DiabetesPedigreeFunction</th>\n",
       "      <th>Age</th>\n",
       "      <th>Outcome</th>\n",
       "    </tr>\n",
       "  </thead>\n",
       "  <tbody>\n",
       "    <tr>\n",
       "      <th>count</th>\n",
       "      <td>767.000000</td>\n",
       "      <td>767.000000</td>\n",
       "      <td>767.000000</td>\n",
       "      <td>767.000000</td>\n",
       "      <td>767.000000</td>\n",
       "      <td>767.000000</td>\n",
       "      <td>767.000000</td>\n",
       "      <td>767.000000</td>\n",
       "      <td>767.000000</td>\n",
       "    </tr>\n",
       "    <tr>\n",
       "      <th>mean</th>\n",
       "      <td>3.842243</td>\n",
       "      <td>120.859192</td>\n",
       "      <td>69.101695</td>\n",
       "      <td>20.517601</td>\n",
       "      <td>79.903520</td>\n",
       "      <td>31.990482</td>\n",
       "      <td>0.471674</td>\n",
       "      <td>33.219035</td>\n",
       "      <td>0.348110</td>\n",
       "    </tr>\n",
       "    <tr>\n",
       "      <th>std</th>\n",
       "      <td>3.370877</td>\n",
       "      <td>31.978468</td>\n",
       "      <td>19.368155</td>\n",
       "      <td>15.954059</td>\n",
       "      <td>115.283105</td>\n",
       "      <td>7.889091</td>\n",
       "      <td>0.331497</td>\n",
       "      <td>11.752296</td>\n",
       "      <td>0.476682</td>\n",
       "    </tr>\n",
       "    <tr>\n",
       "      <th>min</th>\n",
       "      <td>0.000000</td>\n",
       "      <td>0.000000</td>\n",
       "      <td>0.000000</td>\n",
       "      <td>0.000000</td>\n",
       "      <td>0.000000</td>\n",
       "      <td>0.000000</td>\n",
       "      <td>0.078000</td>\n",
       "      <td>21.000000</td>\n",
       "      <td>0.000000</td>\n",
       "    </tr>\n",
       "    <tr>\n",
       "      <th>25%</th>\n",
       "      <td>1.000000</td>\n",
       "      <td>99.000000</td>\n",
       "      <td>62.000000</td>\n",
       "      <td>0.000000</td>\n",
       "      <td>0.000000</td>\n",
       "      <td>27.300000</td>\n",
       "      <td>0.243500</td>\n",
       "      <td>24.000000</td>\n",
       "      <td>0.000000</td>\n",
       "    </tr>\n",
       "    <tr>\n",
       "      <th>50%</th>\n",
       "      <td>3.000000</td>\n",
       "      <td>117.000000</td>\n",
       "      <td>72.000000</td>\n",
       "      <td>23.000000</td>\n",
       "      <td>32.000000</td>\n",
       "      <td>32.000000</td>\n",
       "      <td>0.371000</td>\n",
       "      <td>29.000000</td>\n",
       "      <td>0.000000</td>\n",
       "    </tr>\n",
       "    <tr>\n",
       "      <th>75%</th>\n",
       "      <td>6.000000</td>\n",
       "      <td>140.000000</td>\n",
       "      <td>80.000000</td>\n",
       "      <td>32.000000</td>\n",
       "      <td>127.500000</td>\n",
       "      <td>36.600000</td>\n",
       "      <td>0.625000</td>\n",
       "      <td>41.000000</td>\n",
       "      <td>1.000000</td>\n",
       "    </tr>\n",
       "    <tr>\n",
       "      <th>max</th>\n",
       "      <td>17.000000</td>\n",
       "      <td>199.000000</td>\n",
       "      <td>122.000000</td>\n",
       "      <td>99.000000</td>\n",
       "      <td>846.000000</td>\n",
       "      <td>67.100000</td>\n",
       "      <td>2.420000</td>\n",
       "      <td>81.000000</td>\n",
       "      <td>1.000000</td>\n",
       "    </tr>\n",
       "  </tbody>\n",
       "</table>\n",
       "</div>"
      ],
      "text/plain": [
       "       Pregnancies     Glucose  BloodPressure  SkinThickness     Insulin  \\\n",
       "count   767.000000  767.000000     767.000000     767.000000  767.000000   \n",
       "mean      3.842243  120.859192      69.101695      20.517601   79.903520   \n",
       "std       3.370877   31.978468      19.368155      15.954059  115.283105   \n",
       "min       0.000000    0.000000       0.000000       0.000000    0.000000   \n",
       "25%       1.000000   99.000000      62.000000       0.000000    0.000000   \n",
       "50%       3.000000  117.000000      72.000000      23.000000   32.000000   \n",
       "75%       6.000000  140.000000      80.000000      32.000000  127.500000   \n",
       "max      17.000000  199.000000     122.000000      99.000000  846.000000   \n",
       "\n",
       "              BMI  DiabetesPedigreeFunction         Age     Outcome  \n",
       "count  767.000000                767.000000  767.000000  767.000000  \n",
       "mean    31.990482                  0.471674   33.219035    0.348110  \n",
       "std      7.889091                  0.331497   11.752296    0.476682  \n",
       "min      0.000000                  0.078000   21.000000    0.000000  \n",
       "25%     27.300000                  0.243500   24.000000    0.000000  \n",
       "50%     32.000000                  0.371000   29.000000    0.000000  \n",
       "75%     36.600000                  0.625000   41.000000    1.000000  \n",
       "max     67.100000                  2.420000   81.000000    1.000000  "
      ]
     },
     "execution_count": 10,
     "metadata": {},
     "output_type": "execute_result"
    }
   ],
   "source": [
    "df.describe()"
   ]
  },
  {
   "cell_type": "code",
   "execution_count": 11,
   "id": "5eaf5246",
   "metadata": {
    "execution": {
     "iopub.execute_input": "2023-12-25T05:47:37.454143Z",
     "iopub.status.busy": "2023-12-25T05:47:37.453749Z",
     "iopub.status.idle": "2023-12-25T05:47:37.467730Z",
     "shell.execute_reply": "2023-12-25T05:47:37.466223Z"
    },
    "papermill": {
     "duration": 0.029945,
     "end_time": "2023-12-25T05:47:37.470357",
     "exception": false,
     "start_time": "2023-12-25T05:47:37.440412",
     "status": "completed"
    },
    "tags": []
   },
   "outputs": [
    {
     "data": {
      "text/plain": [
       "Outcome\n",
       "0    500\n",
       "1    267\n",
       "Name: count, dtype: int64"
      ]
     },
     "execution_count": 11,
     "metadata": {},
     "output_type": "execute_result"
    }
   ],
   "source": [
    "df['Outcome'].value_counts()"
   ]
  },
  {
   "cell_type": "code",
   "execution_count": 12,
   "id": "1d88c0d1",
   "metadata": {
    "execution": {
     "iopub.execute_input": "2023-12-25T05:47:37.497573Z",
     "iopub.status.busy": "2023-12-25T05:47:37.496689Z",
     "iopub.status.idle": "2023-12-25T05:47:37.509136Z",
     "shell.execute_reply": "2023-12-25T05:47:37.507911Z"
    },
    "papermill": {
     "duration": 0.029076,
     "end_time": "2023-12-25T05:47:37.512085",
     "exception": false,
     "start_time": "2023-12-25T05:47:37.483009",
     "status": "completed"
    },
    "tags": []
   },
   "outputs": [],
   "source": [
    "X = df.drop(columns='Outcome')\n",
    "y = df['Outcome']"
   ]
  },
  {
   "cell_type": "markdown",
   "id": "ed5a64e9",
   "metadata": {
    "papermill": {
     "duration": 0.011992,
     "end_time": "2023-12-25T05:47:37.536325",
     "exception": false,
     "start_time": "2023-12-25T05:47:37.524333",
     "status": "completed"
    },
    "tags": []
   },
   "source": [
    "**Here, we need to scaling for more safe approach, because scale of values of Pregnancies much different from other values scale.**"
   ]
  },
  {
   "cell_type": "code",
   "execution_count": 13,
   "id": "7b66c18c",
   "metadata": {
    "execution": {
     "iopub.execute_input": "2023-12-25T05:47:37.562983Z",
     "iopub.status.busy": "2023-12-25T05:47:37.562584Z",
     "iopub.status.idle": "2023-12-25T05:47:37.567995Z",
     "shell.execute_reply": "2023-12-25T05:47:37.566177Z"
    },
    "papermill": {
     "duration": 0.021958,
     "end_time": "2023-12-25T05:47:37.570598",
     "exception": false,
     "start_time": "2023-12-25T05:47:37.548640",
     "status": "completed"
    },
    "tags": []
   },
   "outputs": [],
   "source": [
    "scale = StandardScaler()"
   ]
  },
  {
   "cell_type": "code",
   "execution_count": 14,
   "id": "245c7887",
   "metadata": {
    "execution": {
     "iopub.execute_input": "2023-12-25T05:47:37.597353Z",
     "iopub.status.busy": "2023-12-25T05:47:37.596966Z",
     "iopub.status.idle": "2023-12-25T05:47:37.611540Z",
     "shell.execute_reply": "2023-12-25T05:47:37.610574Z"
    },
    "papermill": {
     "duration": 0.030976,
     "end_time": "2023-12-25T05:47:37.613909",
     "exception": false,
     "start_time": "2023-12-25T05:47:37.582933",
     "status": "completed"
    },
    "tags": []
   },
   "outputs": [
    {
     "data": {
      "text/plain": [
       "array([[-0.84372629, -1.12208597, -0.16024856, ..., -0.68372895,\n",
       "        -0.36426474, -0.18894038],\n",
       "       [ 1.23423997,  1.94447577, -0.26357823, ..., -1.10230105,\n",
       "         0.60470064, -0.1037951 ],\n",
       "       [-0.84372629, -0.99692019, -0.16024856, ..., -0.49346891,\n",
       "        -0.91968415, -1.0403932 ],\n",
       "       ...,\n",
       "       [ 0.343683  ,  0.0044061 ,  0.14974046, ..., -0.73446496,\n",
       "        -0.68423462, -0.27408566],\n",
       "       [-0.84372629,  0.16086333, -0.47023757, ..., -0.23978884,\n",
       "        -0.37030191,  1.17338414],\n",
       "       [-0.84372629, -0.8717544 ,  0.04641078, ..., -0.20173684,\n",
       "        -0.47293375, -0.87010264]])"
      ]
     },
     "execution_count": 14,
     "metadata": {},
     "output_type": "execute_result"
    }
   ],
   "source": [
    "X = scale.fit_transform(X)\n",
    "X"
   ]
  },
  {
   "cell_type": "code",
   "execution_count": 15,
   "id": "f49e6841",
   "metadata": {
    "execution": {
     "iopub.execute_input": "2023-12-25T05:47:37.641436Z",
     "iopub.status.busy": "2023-12-25T05:47:37.640597Z",
     "iopub.status.idle": "2023-12-25T05:47:37.650393Z",
     "shell.execute_reply": "2023-12-25T05:47:37.649131Z"
    },
    "papermill": {
     "duration": 0.027067,
     "end_time": "2023-12-25T05:47:37.653406",
     "exception": false,
     "start_time": "2023-12-25T05:47:37.626339",
     "status": "completed"
    },
    "tags": []
   },
   "outputs": [],
   "source": [
    "# data is split in a stratified fashion, using this as the class labels because there is imbalance between both types of outocmes,\n",
    "# So, using this both training and testing dataset will contain proportional number of both outcomes\n",
    "X_train, X_test,y_train,y_test = train_test_split(X,y,test_size = 0.2,stratify=y)"
   ]
  },
  {
   "cell_type": "code",
   "execution_count": 16,
   "id": "7954b686",
   "metadata": {
    "execution": {
     "iopub.execute_input": "2023-12-25T05:47:37.681608Z",
     "iopub.status.busy": "2023-12-25T05:47:37.681157Z",
     "iopub.status.idle": "2023-12-25T05:47:37.689923Z",
     "shell.execute_reply": "2023-12-25T05:47:37.688740Z"
    },
    "papermill": {
     "duration": 0.025826,
     "end_time": "2023-12-25T05:47:37.692283",
     "exception": false,
     "start_time": "2023-12-25T05:47:37.666457",
     "status": "completed"
    },
    "tags": []
   },
   "outputs": [
    {
     "data": {
      "text/plain": [
       "Outcome\n",
       "0    400\n",
       "1    213\n",
       "Name: count, dtype: int64"
      ]
     },
     "execution_count": 16,
     "metadata": {},
     "output_type": "execute_result"
    }
   ],
   "source": [
    "y_train.value_counts()"
   ]
  },
  {
   "cell_type": "code",
   "execution_count": 17,
   "id": "20bb7341",
   "metadata": {
    "execution": {
     "iopub.execute_input": "2023-12-25T05:47:37.721441Z",
     "iopub.status.busy": "2023-12-25T05:47:37.721016Z",
     "iopub.status.idle": "2023-12-25T05:47:37.730888Z",
     "shell.execute_reply": "2023-12-25T05:47:37.729201Z"
    },
    "papermill": {
     "duration": 0.028154,
     "end_time": "2023-12-25T05:47:37.733732",
     "exception": false,
     "start_time": "2023-12-25T05:47:37.705578",
     "status": "completed"
    },
    "tags": []
   },
   "outputs": [
    {
     "data": {
      "text/plain": [
       "Outcome\n",
       "0    100\n",
       "1     54\n",
       "Name: count, dtype: int64"
      ]
     },
     "execution_count": 17,
     "metadata": {},
     "output_type": "execute_result"
    }
   ],
   "source": [
    "y_test.value_counts()"
   ]
  },
  {
   "cell_type": "markdown",
   "id": "81345f41",
   "metadata": {
    "papermill": {
     "duration": 0.012845,
     "end_time": "2023-12-25T05:47:37.759415",
     "exception": false,
     "start_time": "2023-12-25T05:47:37.746570",
     "status": "completed"
    },
    "tags": []
   },
   "source": [
    "**As we can observe that both train and testing dataset contain proportional number of both outcomes.**"
   ]
  },
  {
   "cell_type": "code",
   "execution_count": 18,
   "id": "8c360f1d",
   "metadata": {
    "execution": {
     "iopub.execute_input": "2023-12-25T05:47:37.786557Z",
     "iopub.status.busy": "2023-12-25T05:47:37.786097Z",
     "iopub.status.idle": "2023-12-25T05:47:37.795127Z",
     "shell.execute_reply": "2023-12-25T05:47:37.793737Z"
    },
    "papermill": {
     "duration": 0.025732,
     "end_time": "2023-12-25T05:47:37.797773",
     "exception": false,
     "start_time": "2023-12-25T05:47:37.772041",
     "status": "completed"
    },
    "tags": []
   },
   "outputs": [
    {
     "data": {
      "text/plain": [
       "(767, 8)"
      ]
     },
     "execution_count": 18,
     "metadata": {},
     "output_type": "execute_result"
    }
   ],
   "source": [
    "X.shape"
   ]
  },
  {
   "cell_type": "markdown",
   "id": "c89f5f4c",
   "metadata": {
    "papermill": {
     "duration": 0.012548,
     "end_time": "2023-12-25T05:47:37.823372",
     "exception": false,
     "start_time": "2023-12-25T05:47:37.810824",
     "status": "completed"
    },
    "tags": []
   },
   "source": [
    "## Training and Testing Data : Bagging Classifier"
   ]
  },
  {
   "cell_type": "code",
   "execution_count": 19,
   "id": "16a81a29",
   "metadata": {
    "execution": {
     "iopub.execute_input": "2023-12-25T05:47:37.851698Z",
     "iopub.status.busy": "2023-12-25T05:47:37.851284Z",
     "iopub.status.idle": "2023-12-25T05:47:37.978928Z",
     "shell.execute_reply": "2023-12-25T05:47:37.977465Z"
    },
    "papermill": {
     "duration": 0.145095,
     "end_time": "2023-12-25T05:47:37.981757",
     "exception": false,
     "start_time": "2023-12-25T05:47:37.836662",
     "status": "completed"
    },
    "tags": []
   },
   "outputs": [
    {
     "data": {
      "text/plain": [
       "array([0.56410256, 0.69230769, 0.74358974, 0.76923077, 0.66666667,\n",
       "       0.66666667, 0.61538462, 0.63157895, 0.63157895, 0.76315789,\n",
       "       0.71052632, 0.71052632, 0.68421053, 0.78947368, 0.68421053,\n",
       "       0.86842105, 0.65789474, 0.68421053, 0.65789474, 0.81578947])"
      ]
     },
     "execution_count": 19,
     "metadata": {},
     "output_type": "execute_result"
    }
   ],
   "source": [
    "scores = cross_val_score(DecisionTreeClassifier(),X,y,cv=20)\n",
    "scores"
   ]
  },
  {
   "cell_type": "code",
   "execution_count": 20,
   "id": "db862180",
   "metadata": {
    "execution": {
     "iopub.execute_input": "2023-12-25T05:47:38.078140Z",
     "iopub.status.busy": "2023-12-25T05:47:38.077335Z",
     "iopub.status.idle": "2023-12-25T05:47:38.085915Z",
     "shell.execute_reply": "2023-12-25T05:47:38.084470Z"
    },
    "papermill": {
     "duration": 0.026163,
     "end_time": "2023-12-25T05:47:38.088469",
     "exception": false,
     "start_time": "2023-12-25T05:47:38.062306",
     "status": "completed"
    },
    "tags": []
   },
   "outputs": [
    {
     "data": {
      "text/plain": [
       "0.7003711201079622"
      ]
     },
     "execution_count": 20,
     "metadata": {},
     "output_type": "execute_result"
    }
   ],
   "source": [
    "scores.mean()"
   ]
  },
  {
   "cell_type": "code",
   "execution_count": 21,
   "id": "a18f696f",
   "metadata": {
    "execution": {
     "iopub.execute_input": "2023-12-25T05:47:38.120144Z",
     "iopub.status.busy": "2023-12-25T05:47:38.118475Z",
     "iopub.status.idle": "2023-12-25T05:47:38.126711Z",
     "shell.execute_reply": "2023-12-25T05:47:38.125414Z"
    },
    "papermill": {
     "duration": 0.028071,
     "end_time": "2023-12-25T05:47:38.130541",
     "exception": false,
     "start_time": "2023-12-25T05:47:38.102470",
     "status": "completed"
    },
    "tags": []
   },
   "outputs": [],
   "source": [
    "bag_model = BaggingClassifier(\n",
    "estimator=DecisionTreeClassifier(),\n",
    "n_estimators=100,\n",
    "max_samples=0.8, #The number of samples to draw from X to train each base estimator \n",
    "oob_score=True #OOB score is to use the observations that were not included in the training subset for each base model to evaluate its performance.\n",
    ")\n",
    "#The OOB score can serve as a useful estimate of the model's generalization performance without the need for a separate validation set.\n",
    "# It is particularly helpful when you have a limited amount of data and want to make the most out of your training set."
   ]
  },
  {
   "cell_type": "code",
   "execution_count": 22,
   "id": "353936e5",
   "metadata": {
    "execution": {
     "iopub.execute_input": "2023-12-25T05:47:38.163720Z",
     "iopub.status.busy": "2023-12-25T05:47:38.162309Z",
     "iopub.status.idle": "2023-12-25T05:47:38.664751Z",
     "shell.execute_reply": "2023-12-25T05:47:38.663597Z"
    },
    "papermill": {
     "duration": 0.52416,
     "end_time": "2023-12-25T05:47:38.670919",
     "exception": false,
     "start_time": "2023-12-25T05:47:38.146759",
     "status": "completed"
    },
    "tags": []
   },
   "outputs": [
    {
     "data": {
      "text/html": [
       "<style>#sk-container-id-1 {color: black;background-color: white;}#sk-container-id-1 pre{padding: 0;}#sk-container-id-1 div.sk-toggleable {background-color: white;}#sk-container-id-1 label.sk-toggleable__label {cursor: pointer;display: block;width: 100%;margin-bottom: 0;padding: 0.3em;box-sizing: border-box;text-align: center;}#sk-container-id-1 label.sk-toggleable__label-arrow:before {content: \"▸\";float: left;margin-right: 0.25em;color: #696969;}#sk-container-id-1 label.sk-toggleable__label-arrow:hover:before {color: black;}#sk-container-id-1 div.sk-estimator:hover label.sk-toggleable__label-arrow:before {color: black;}#sk-container-id-1 div.sk-toggleable__content {max-height: 0;max-width: 0;overflow: hidden;text-align: left;background-color: #f0f8ff;}#sk-container-id-1 div.sk-toggleable__content pre {margin: 0.2em;color: black;border-radius: 0.25em;background-color: #f0f8ff;}#sk-container-id-1 input.sk-toggleable__control:checked~div.sk-toggleable__content {max-height: 200px;max-width: 100%;overflow: auto;}#sk-container-id-1 input.sk-toggleable__control:checked~label.sk-toggleable__label-arrow:before {content: \"▾\";}#sk-container-id-1 div.sk-estimator input.sk-toggleable__control:checked~label.sk-toggleable__label {background-color: #d4ebff;}#sk-container-id-1 div.sk-label input.sk-toggleable__control:checked~label.sk-toggleable__label {background-color: #d4ebff;}#sk-container-id-1 input.sk-hidden--visually {border: 0;clip: rect(1px 1px 1px 1px);clip: rect(1px, 1px, 1px, 1px);height: 1px;margin: -1px;overflow: hidden;padding: 0;position: absolute;width: 1px;}#sk-container-id-1 div.sk-estimator {font-family: monospace;background-color: #f0f8ff;border: 1px dotted black;border-radius: 0.25em;box-sizing: border-box;margin-bottom: 0.5em;}#sk-container-id-1 div.sk-estimator:hover {background-color: #d4ebff;}#sk-container-id-1 div.sk-parallel-item::after {content: \"\";width: 100%;border-bottom: 1px solid gray;flex-grow: 1;}#sk-container-id-1 div.sk-label:hover label.sk-toggleable__label {background-color: #d4ebff;}#sk-container-id-1 div.sk-serial::before {content: \"\";position: absolute;border-left: 1px solid gray;box-sizing: border-box;top: 0;bottom: 0;left: 50%;z-index: 0;}#sk-container-id-1 div.sk-serial {display: flex;flex-direction: column;align-items: center;background-color: white;padding-right: 0.2em;padding-left: 0.2em;position: relative;}#sk-container-id-1 div.sk-item {position: relative;z-index: 1;}#sk-container-id-1 div.sk-parallel {display: flex;align-items: stretch;justify-content: center;background-color: white;position: relative;}#sk-container-id-1 div.sk-item::before, #sk-container-id-1 div.sk-parallel-item::before {content: \"\";position: absolute;border-left: 1px solid gray;box-sizing: border-box;top: 0;bottom: 0;left: 50%;z-index: -1;}#sk-container-id-1 div.sk-parallel-item {display: flex;flex-direction: column;z-index: 1;position: relative;background-color: white;}#sk-container-id-1 div.sk-parallel-item:first-child::after {align-self: flex-end;width: 50%;}#sk-container-id-1 div.sk-parallel-item:last-child::after {align-self: flex-start;width: 50%;}#sk-container-id-1 div.sk-parallel-item:only-child::after {width: 0;}#sk-container-id-1 div.sk-dashed-wrapped {border: 1px dashed gray;margin: 0 0.4em 0.5em 0.4em;box-sizing: border-box;padding-bottom: 0.4em;background-color: white;}#sk-container-id-1 div.sk-label label {font-family: monospace;font-weight: bold;display: inline-block;line-height: 1.2em;}#sk-container-id-1 div.sk-label-container {text-align: center;}#sk-container-id-1 div.sk-container {/* jupyter's `normalize.less` sets `[hidden] { display: none; }` but bootstrap.min.css set `[hidden] { display: none !important; }` so we also need the `!important` here to be able to override the default hidden behavior on the sphinx rendered scikit-learn.org. See: https://github.com/scikit-learn/scikit-learn/issues/21755 */display: inline-block !important;position: relative;}#sk-container-id-1 div.sk-text-repr-fallback {display: none;}</style><div id=\"sk-container-id-1\" class=\"sk-top-container\"><div class=\"sk-text-repr-fallback\"><pre>BaggingClassifier(estimator=DecisionTreeClassifier(), max_samples=0.8,\n",
       "                  n_estimators=100, oob_score=True)</pre><b>In a Jupyter environment, please rerun this cell to show the HTML representation or trust the notebook. <br />On GitHub, the HTML representation is unable to render, please try loading this page with nbviewer.org.</b></div><div class=\"sk-container\" hidden><div class=\"sk-item sk-dashed-wrapped\"><div class=\"sk-label-container\"><div class=\"sk-label sk-toggleable\"><input class=\"sk-toggleable__control sk-hidden--visually\" id=\"sk-estimator-id-1\" type=\"checkbox\" ><label for=\"sk-estimator-id-1\" class=\"sk-toggleable__label sk-toggleable__label-arrow\">BaggingClassifier</label><div class=\"sk-toggleable__content\"><pre>BaggingClassifier(estimator=DecisionTreeClassifier(), max_samples=0.8,\n",
       "                  n_estimators=100, oob_score=True)</pre></div></div></div><div class=\"sk-parallel\"><div class=\"sk-parallel-item\"><div class=\"sk-item\"><div class=\"sk-label-container\"><div class=\"sk-label sk-toggleable\"><input class=\"sk-toggleable__control sk-hidden--visually\" id=\"sk-estimator-id-2\" type=\"checkbox\" ><label for=\"sk-estimator-id-2\" class=\"sk-toggleable__label sk-toggleable__label-arrow\">estimator: DecisionTreeClassifier</label><div class=\"sk-toggleable__content\"><pre>DecisionTreeClassifier()</pre></div></div></div><div class=\"sk-serial\"><div class=\"sk-item\"><div class=\"sk-estimator sk-toggleable\"><input class=\"sk-toggleable__control sk-hidden--visually\" id=\"sk-estimator-id-3\" type=\"checkbox\" ><label for=\"sk-estimator-id-3\" class=\"sk-toggleable__label sk-toggleable__label-arrow\">DecisionTreeClassifier</label><div class=\"sk-toggleable__content\"><pre>DecisionTreeClassifier()</pre></div></div></div></div></div></div></div></div></div></div>"
      ],
      "text/plain": [
       "BaggingClassifier(estimator=DecisionTreeClassifier(), max_samples=0.8,\n",
       "                  n_estimators=100, oob_score=True)"
      ]
     },
     "execution_count": 22,
     "metadata": {},
     "output_type": "execute_result"
    }
   ],
   "source": [
    "bag_model.fit(X_train,y_train)"
   ]
  },
  {
   "cell_type": "code",
   "execution_count": 23,
   "id": "ea6fc362",
   "metadata": {
    "execution": {
     "iopub.execute_input": "2023-12-25T05:47:38.700188Z",
     "iopub.status.busy": "2023-12-25T05:47:38.699718Z",
     "iopub.status.idle": "2023-12-25T05:47:38.707868Z",
     "shell.execute_reply": "2023-12-25T05:47:38.706176Z"
    },
    "papermill": {
     "duration": 0.026362,
     "end_time": "2023-12-25T05:47:38.711064",
     "exception": false,
     "start_time": "2023-12-25T05:47:38.684702",
     "status": "completed"
    },
    "tags": []
   },
   "outputs": [
    {
     "data": {
      "text/plain": [
       "0.7455138662316476"
      ]
     },
     "execution_count": 23,
     "metadata": {},
     "output_type": "execute_result"
    }
   ],
   "source": [
    "bag_model.oob_score_"
   ]
  },
  {
   "cell_type": "code",
   "execution_count": 24,
   "id": "5c84262a",
   "metadata": {
    "execution": {
     "iopub.execute_input": "2023-12-25T05:47:38.741911Z",
     "iopub.status.busy": "2023-12-25T05:47:38.741503Z",
     "iopub.status.idle": "2023-12-25T05:47:38.768885Z",
     "shell.execute_reply": "2023-12-25T05:47:38.767756Z"
    },
    "papermill": {
     "duration": 0.046016,
     "end_time": "2023-12-25T05:47:38.771500",
     "exception": false,
     "start_time": "2023-12-25T05:47:38.725484",
     "status": "completed"
    },
    "tags": []
   },
   "outputs": [
    {
     "data": {
      "text/plain": [
       "0.7402597402597403"
      ]
     },
     "execution_count": 24,
     "metadata": {},
     "output_type": "execute_result"
    }
   ],
   "source": [
    "bag_model.score(X_test,y_test)"
   ]
  },
  {
   "cell_type": "code",
   "execution_count": 25,
   "id": "3af10704",
   "metadata": {
    "execution": {
     "iopub.execute_input": "2023-12-25T05:47:38.803250Z",
     "iopub.status.busy": "2023-12-25T05:47:38.802839Z",
     "iopub.status.idle": "2023-12-25T05:47:49.670371Z",
     "shell.execute_reply": "2023-12-25T05:47:49.669022Z"
    },
    "papermill": {
     "duration": 10.887888,
     "end_time": "2023-12-25T05:47:49.674073",
     "exception": false,
     "start_time": "2023-12-25T05:47:38.786185",
     "status": "completed"
    },
    "tags": []
   },
   "outputs": [
    {
     "data": {
      "text/plain": [
       "array([0.61538462, 0.74358974, 0.79487179, 0.79487179, 0.79487179,\n",
       "       0.66666667, 0.66666667, 0.68421053, 0.76315789, 0.84210526,\n",
       "       0.78947368, 0.84210526, 0.71052632, 0.92105263, 0.68421053,\n",
       "       0.89473684, 0.73684211, 0.71052632, 0.73684211, 0.86842105])"
      ]
     },
     "execution_count": 25,
     "metadata": {},
     "output_type": "execute_result"
    }
   ],
   "source": [
    "scores = cross_val_score(bag_model,X,y,cv=20)\n",
    "scores"
   ]
  },
  {
   "cell_type": "code",
   "execution_count": 26,
   "id": "c906add9",
   "metadata": {
    "execution": {
     "iopub.execute_input": "2023-12-25T05:47:49.709826Z",
     "iopub.status.busy": "2023-12-25T05:47:49.708907Z",
     "iopub.status.idle": "2023-12-25T05:47:49.717331Z",
     "shell.execute_reply": "2023-12-25T05:47:49.715968Z"
    },
    "papermill": {
     "duration": 0.026917,
     "end_time": "2023-12-25T05:47:49.719993",
     "exception": false,
     "start_time": "2023-12-25T05:47:49.693076",
     "status": "completed"
    },
    "tags": []
   },
   "outputs": [
    {
     "data": {
      "text/plain": [
       "0.7630566801619433"
      ]
     },
     "execution_count": 26,
     "metadata": {},
     "output_type": "execute_result"
    }
   ],
   "source": [
    "scores.mean()"
   ]
  },
  {
   "cell_type": "markdown",
   "id": "bd7faceb",
   "metadata": {
    "papermill": {
     "duration": 0.015444,
     "end_time": "2023-12-25T05:47:49.749835",
     "exception": false,
     "start_time": "2023-12-25T05:47:49.734391",
     "status": "completed"
    },
    "tags": []
   },
   "source": [
    "## Checking For PCA"
   ]
  },
  {
   "cell_type": "code",
   "execution_count": 27,
   "id": "29832bc7",
   "metadata": {
    "execution": {
     "iopub.execute_input": "2023-12-25T05:47:49.791356Z",
     "iopub.status.busy": "2023-12-25T05:47:49.790186Z",
     "iopub.status.idle": "2023-12-25T05:47:49.798923Z",
     "shell.execute_reply": "2023-12-25T05:47:49.797320Z"
    },
    "papermill": {
     "duration": 0.036229,
     "end_time": "2023-12-25T05:47:49.806873",
     "exception": false,
     "start_time": "2023-12-25T05:47:49.770644",
     "status": "completed"
    },
    "tags": []
   },
   "outputs": [],
   "source": [
    "df_corr = df.corr()"
   ]
  },
  {
   "cell_type": "code",
   "execution_count": 28,
   "id": "daf519ce",
   "metadata": {
    "execution": {
     "iopub.execute_input": "2023-12-25T05:47:49.848413Z",
     "iopub.status.busy": "2023-12-25T05:47:49.847422Z",
     "iopub.status.idle": "2023-12-25T05:47:50.581698Z",
     "shell.execute_reply": "2023-12-25T05:47:50.580724Z"
    },
    "papermill": {
     "duration": 0.759027,
     "end_time": "2023-12-25T05:47:50.584288",
     "exception": false,
     "start_time": "2023-12-25T05:47:49.825261",
     "status": "completed"
    },
    "tags": []
   },
   "outputs": [
    {
     "data": {
      "text/plain": [
       "<Axes: >"
      ]
     },
     "execution_count": 28,
     "metadata": {},
     "output_type": "execute_result"
    },
    {
     "data": {
      "image/png": "[encoded data removed]",
      "text/plain": [
       "<Figure size 640x480 with 2 Axes>"
      ]
     },
     "metadata": {},
     "output_type": "display_data"
    }
   ],
   "source": [
    "sns.heatmap(df_corr,annot = True,fmt='.1g')"
   ]
  },
  {
   "cell_type": "markdown",
   "id": "1005229b",
   "metadata": {
    "papermill": {
     "duration": 0.016106,
     "end_time": "2023-12-25T05:47:50.616422",
     "exception": false,
     "start_time": "2023-12-25T05:47:50.600316",
     "status": "completed"
    },
    "tags": []
   },
   "source": [
    "**Since, features are poorly corelated to each other. So, PCA is not better option.**"
   ]
  }
 ],
 "metadata": {
  "kaggle": {
   "accelerator": "none",
   "dataSources": [
    {
     "datasetId": 1307679,
     "sourceId": 2178139,
     "sourceType": "datasetVersion"
    }
   ],
   "dockerImageVersionId": 30626,
   "isGpuEnabled": false,
   "isInternetEnabled": true,
   "language": "python",
   "sourceType": "notebook"
  },
  "kernelspec": {
   "display_name": "Python 3",
   "language": "python",
   "name": "python3"
  },
  "language_info": {
   "codemirror_mode": {
    "name": "ipython",
    "version": 3
   },
   "file_extension": ".py",
   "mimetype": "text/x-python",
   "name": "python",
   "nbconvert_exporter": "python",
   "pygments_lexer": "ipython3",
   "version": "3.10.12"
  },
  "papermill": {
   "default_parameters": {},
   "duration": 20.783212,
   "end_time": "2023-12-25T05:47:51.356059",
   "environment_variables": {},
   "exception": null,
   "input_path": "__notebook__.ipynb",
   "output_path": "__notebook__.ipynb",
   "parameters": {},
   "start_time": "2023-12-25T05:47:30.572847",
   "version": "2.4.0"
  }
 },
 "nbformat": 4,
 "nbformat_minor": 5
}
