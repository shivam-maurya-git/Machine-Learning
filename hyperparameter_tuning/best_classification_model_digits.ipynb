{
 "cells": [
  {
   "cell_type": "code",
   "execution_count": 2,
   "id": "f87ee40b",
   "metadata": {},
   "outputs": [],
   "source": [
    "from sklearn.datasets import load_digits\n",
    "from sklearn.model_selection import GridSearchCV\n",
    "from sklearn.model_selection import RandomizedSearchCV\n",
    "from sklearn.linear_model import LogisticRegression"
   ]
  },
  {
   "cell_type": "code",
   "execution_count": 4,
   "id": "953fa1a0",
   "metadata": {},
   "outputs": [],
   "source": [
    "from sklearn.ensemble import RandomForestClassifier\n",
    "from sklearn.svm import SVC"
   ]
  },
  {
   "cell_type": "code",
   "execution_count": 5,
   "id": "7325884d",
   "metadata": {},
   "outputs": [],
   "source": [
    "digits = load_digits()"
   ]
  },
  {
   "cell_type": "code",
   "execution_count": 13,
   "id": "3349b877",
   "metadata": {},
   "outputs": [],
   "source": [
    "model_params = {\n",
    "    'svm': {\n",
    "        'model': SVC(),\n",
    "        'params' : {\n",
    "            'gamma':['auto','scale'],\n",
    "            'C': [1,10,100],\n",
    "            'kernel': ['rbf','linear','poly']\n",
    "        }  \n",
    "    },\n",
    "    'random_forest': {\n",
    "        'model': RandomForestClassifier(),\n",
    "        'params' : {\n",
    "            'n_estimators': [1,5,10]\n",
    "        }\n",
    "    },\n",
    "    'logistic_regression' : {\n",
    "        'model': LogisticRegression(solver='lbfgs',max_iter=10000),\n",
    "        'params': {\n",
    "            'C': [1,5,10]\n",
    "        }\n",
    "    }\n",
    "}"
   ]
  },
  {
   "cell_type": "code",
   "execution_count": 14,
   "id": "af8828bd",
   "metadata": {},
   "outputs": [
    {
     "data": {
      "text/plain": [
       "[['svm', SVC(C=10), 0.9738502011761063],\n",
       " ['random_forest', RandomForestClassifier(n_estimators=10), 0.89260136180749],\n",
       " ['logistic_regression',\n",
       "  LogisticRegression(C=1, max_iter=10000),\n",
       "  0.9148731043020737]]"
      ]
     },
     "execution_count": 14,
     "metadata": {},
     "output_type": "execute_result"
    }
   ],
   "source": [
    "scores = list()\n",
    "for model_name, model_para in model_params.items():\n",
    "    tune = GridSearchCV(model_para['model'],model_para['params'],cv=5)\n",
    "    tune.fit(digits.data,digits.target)\n",
    "    scores.append([model_name,tune.best_estimator_,tune.best_score_])\n",
    "scores    "
   ]
  }
 ],
 "metadata": {
  "kernelspec": {
   "display_name": "Python 3 (ipykernel)",
   "language": "python",
   "name": "python3"
  },
  "language_info": {
   "codemirror_mode": {
    "name": "ipython",
    "version": 3
   },
   "file_extension": ".py",
   "mimetype": "text/x-python",
   "name": "python",
   "nbconvert_exporter": "python",
   "pygments_lexer": "ipython3",
   "version": "3.11.5"
  }
 },
 "nbformat": 4,
 "nbformat_minor": 5
}
